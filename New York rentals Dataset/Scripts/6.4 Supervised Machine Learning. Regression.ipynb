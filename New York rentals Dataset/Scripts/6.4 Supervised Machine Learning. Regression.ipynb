{
 "cells": [
  {
   "cell_type": "markdown",
   "id": "c04a7e06",
   "metadata": {},
   "source": [
    "## 6.4 Machine Learning Part 1"
   ]
  },
  {
   "cell_type": "markdown",
   "id": "06728674",
   "metadata": {},
   "source": [
    "### This script contains the following:\n",
    "\n",
    "#### 1. Importing libraries and data\n",
    "#### 2. Data cleaning\n",
    "#### 3. Data prep for regression analysis\n",
    "#### 4. Regression analysis\n",
    "#### Bonus: performance improvement after removing outliers\n",
    "#### 5. Export dataframe"
   ]
  },
  {
   "cell_type": "markdown",
   "id": "c90b43be",
   "metadata": {},
   "source": [
    "### 1. Importing libraries and data"
   ]
  },
  {
   "cell_type": "code",
   "execution_count": 1,
   "id": "b7218b30",
   "metadata": {},
   "outputs": [],
   "source": [
    "import pandas as pd\n",
    "import numpy as np\n",
    "import seaborn as sns\n",
    "import matplotlib\n",
    "import matplotlib.pyplot as plt\n",
    "import os\n",
    "import sklearn\n",
    "from sklearn.model_selection import train_test_split \n",
    "from sklearn.linear_model import LinearRegression\n",
    "from sklearn.metrics import mean_squared_error, r2_score"
   ]
  },
  {
   "cell_type": "code",
   "execution_count": 2,
   "id": "59c805eb",
   "metadata": {},
   "outputs": [],
   "source": [
    "# This option ensures that the graphs you create are displayed within the notebook without the need to \"call\" them specifically.\n",
    "\n",
    "%matplotlib inline"
   ]
  },
  {
   "cell_type": "code",
   "execution_count": 3,
   "id": "d77459e5",
   "metadata": {},
   "outputs": [],
   "source": [
    "path = r'C:\\Users\\admin\\Desktop\\New York rentals Dataset'"
   ]
  },
  {
   "cell_type": "code",
   "execution_count": 5,
   "id": "63d3edf6",
   "metadata": {},
   "outputs": [],
   "source": [
    "df_rentals = pd.read_csv(os.path.join(path, 'Data', 'Prepared Data', 'rental_merged.csv'))"
   ]
  },
  {
   "cell_type": "markdown",
   "id": "909919c8",
   "metadata": {},
   "source": [
    "### 2. Data cleaning"
   ]
  },
  {
   "cell_type": "code",
   "execution_count": 7,
   "id": "63ac4d98",
   "metadata": {},
   "outputs": [
    {
     "data": {
      "text/plain": [
       "Index(['Unnamed: 0', 'id', 'neighborhood', 'latitude', 'longitude',\n",
       "       'room_type', 'price', 'days_occupied_in_2019', 'minimum_nights',\n",
       "       'number_of_reviews', 'reviews_per_month', 'availability_2020',\n",
       "       'Price category'],\n",
       "      dtype='object')"
      ]
     },
     "execution_count": 7,
     "metadata": {},
     "output_type": "execute_result"
    }
   ],
   "source": [
    "df_rentals.columns"
   ]
  },
  {
   "cell_type": "code",
   "execution_count": 8,
   "id": "bc4c0a83",
   "metadata": {},
   "outputs": [],
   "source": [
    "# we use this code to drop unnecessary column\n",
    "df_rentals = df_rentals.drop('Unnamed: 0', axis=1)\n"
   ]
  },
  {
   "cell_type": "code",
   "execution_count": 9,
   "id": "2ffb9819",
   "metadata": {},
   "outputs": [
    {
     "data": {
      "text/html": [
       "<div>\n",
       "<style scoped>\n",
       "    .dataframe tbody tr th:only-of-type {\n",
       "        vertical-align: middle;\n",
       "    }\n",
       "\n",
       "    .dataframe tbody tr th {\n",
       "        vertical-align: top;\n",
       "    }\n",
       "\n",
       "    .dataframe thead th {\n",
       "        text-align: right;\n",
       "    }\n",
       "</style>\n",
       "<table border=\"1\" class=\"dataframe\">\n",
       "  <thead>\n",
       "    <tr style=\"text-align: right;\">\n",
       "      <th></th>\n",
       "      <th>id</th>\n",
       "      <th>neighborhood</th>\n",
       "      <th>latitude</th>\n",
       "      <th>longitude</th>\n",
       "      <th>room_type</th>\n",
       "      <th>price</th>\n",
       "      <th>days_occupied_in_2019</th>\n",
       "      <th>minimum_nights</th>\n",
       "      <th>number_of_reviews</th>\n",
       "      <th>reviews_per_month</th>\n",
       "      <th>availability_2020</th>\n",
       "      <th>Price category</th>\n",
       "    </tr>\n",
       "  </thead>\n",
       "  <tbody>\n",
       "    <tr>\n",
       "      <th>0</th>\n",
       "      <td>2595</td>\n",
       "      <td>Midtown</td>\n",
       "      <td>40.75362</td>\n",
       "      <td>-73.98377</td>\n",
       "      <td>Entire home/apt</td>\n",
       "      <td>225</td>\n",
       "      <td>15</td>\n",
       "      <td>10</td>\n",
       "      <td>48</td>\n",
       "      <td>0.39</td>\n",
       "      <td>1</td>\n",
       "      <td>Middle price</td>\n",
       "    </tr>\n",
       "    <tr>\n",
       "      <th>1</th>\n",
       "      <td>3831</td>\n",
       "      <td>Brooklyn</td>\n",
       "      <td>40.68514</td>\n",
       "      <td>-73.95976</td>\n",
       "      <td>Entire home/apt</td>\n",
       "      <td>89</td>\n",
       "      <td>188</td>\n",
       "      <td>1</td>\n",
       "      <td>295</td>\n",
       "      <td>4.67</td>\n",
       "      <td>1</td>\n",
       "      <td>Low price</td>\n",
       "    </tr>\n",
       "    <tr>\n",
       "      <th>2</th>\n",
       "      <td>5099</td>\n",
       "      <td>Manhattan</td>\n",
       "      <td>40.74767</td>\n",
       "      <td>-73.97500</td>\n",
       "      <td>Entire home/apt</td>\n",
       "      <td>200</td>\n",
       "      <td>362</td>\n",
       "      <td>3</td>\n",
       "      <td>78</td>\n",
       "      <td>0.60</td>\n",
       "      <td>19</td>\n",
       "      <td>Middle price</td>\n",
       "    </tr>\n",
       "    <tr>\n",
       "      <th>3</th>\n",
       "      <td>5121</td>\n",
       "      <td>Bedford-Stuyvesant</td>\n",
       "      <td>40.68688</td>\n",
       "      <td>-73.95596</td>\n",
       "      <td>Private room</td>\n",
       "      <td>60</td>\n",
       "      <td>0</td>\n",
       "      <td>29</td>\n",
       "      <td>49</td>\n",
       "      <td>0.38</td>\n",
       "      <td>365</td>\n",
       "      <td>Low price</td>\n",
       "    </tr>\n",
       "    <tr>\n",
       "      <th>4</th>\n",
       "      <td>5178</td>\n",
       "      <td>Manhattan</td>\n",
       "      <td>40.76489</td>\n",
       "      <td>-73.98493</td>\n",
       "      <td>Private room</td>\n",
       "      <td>79</td>\n",
       "      <td>141</td>\n",
       "      <td>2</td>\n",
       "      <td>454</td>\n",
       "      <td>3.52</td>\n",
       "      <td>242</td>\n",
       "      <td>Low price</td>\n",
       "    </tr>\n",
       "    <tr>\n",
       "      <th>5</th>\n",
       "      <td>5238</td>\n",
       "      <td>Lower East Side</td>\n",
       "      <td>40.71344</td>\n",
       "      <td>-73.99037</td>\n",
       "      <td>Entire home/apt</td>\n",
       "      <td>150</td>\n",
       "      <td>86</td>\n",
       "      <td>1</td>\n",
       "      <td>161</td>\n",
       "      <td>1.29</td>\n",
       "      <td>1</td>\n",
       "      <td>Low price</td>\n",
       "    </tr>\n",
       "    <tr>\n",
       "      <th>6</th>\n",
       "      <td>5441</td>\n",
       "      <td>Manhattan</td>\n",
       "      <td>40.76076</td>\n",
       "      <td>-73.98867</td>\n",
       "      <td>Private room</td>\n",
       "      <td>85</td>\n",
       "      <td>323</td>\n",
       "      <td>3</td>\n",
       "      <td>204</td>\n",
       "      <td>1.56</td>\n",
       "      <td>10</td>\n",
       "      <td>Low price</td>\n",
       "    </tr>\n",
       "    <tr>\n",
       "      <th>7</th>\n",
       "      <td>5803</td>\n",
       "      <td>Park Slope</td>\n",
       "      <td>40.66829</td>\n",
       "      <td>-73.98779</td>\n",
       "      <td>Private room</td>\n",
       "      <td>89</td>\n",
       "      <td>12</td>\n",
       "      <td>4</td>\n",
       "      <td>175</td>\n",
       "      <td>1.35</td>\n",
       "      <td>0</td>\n",
       "      <td>Low price</td>\n",
       "    </tr>\n",
       "    <tr>\n",
       "      <th>8</th>\n",
       "      <td>6090</td>\n",
       "      <td>Manhattan</td>\n",
       "      <td>40.73530</td>\n",
       "      <td>-74.00525</td>\n",
       "      <td>Entire home/apt</td>\n",
       "      <td>120</td>\n",
       "      <td>226</td>\n",
       "      <td>180</td>\n",
       "      <td>27</td>\n",
       "      <td>0.22</td>\n",
       "      <td>271</td>\n",
       "      <td>Low price</td>\n",
       "    </tr>\n",
       "    <tr>\n",
       "      <th>9</th>\n",
       "      <td>6848</td>\n",
       "      <td>Williamsburg</td>\n",
       "      <td>40.70837</td>\n",
       "      <td>-73.95352</td>\n",
       "      <td>Entire home/apt</td>\n",
       "      <td>140</td>\n",
       "      <td>319</td>\n",
       "      <td>2</td>\n",
       "      <td>170</td>\n",
       "      <td>1.33</td>\n",
       "      <td>0</td>\n",
       "      <td>Low price</td>\n",
       "    </tr>\n",
       "    <tr>\n",
       "      <th>10</th>\n",
       "      <td>7097</td>\n",
       "      <td>Brooklyn</td>\n",
       "      <td>40.69169</td>\n",
       "      <td>-73.97185</td>\n",
       "      <td>Entire home/apt</td>\n",
       "      <td>199</td>\n",
       "      <td>15</td>\n",
       "      <td>1</td>\n",
       "      <td>215</td>\n",
       "      <td>1.79</td>\n",
       "      <td>0</td>\n",
       "      <td>Low price</td>\n",
       "    </tr>\n",
       "    <tr>\n",
       "      <th>11</th>\n",
       "      <td>7726</td>\n",
       "      <td>Brooklyn</td>\n",
       "      <td>40.67592</td>\n",
       "      <td>-73.94694</td>\n",
       "      <td>Entire home/apt</td>\n",
       "      <td>99</td>\n",
       "      <td>172</td>\n",
       "      <td>3</td>\n",
       "      <td>75</td>\n",
       "      <td>4.43</td>\n",
       "      <td>63</td>\n",
       "      <td>Low price</td>\n",
       "    </tr>\n",
       "    <tr>\n",
       "      <th>12</th>\n",
       "      <td>7801</td>\n",
       "      <td>Brooklyn</td>\n",
       "      <td>40.71842</td>\n",
       "      <td>-73.95718</td>\n",
       "      <td>Entire home/apt</td>\n",
       "      <td>299</td>\n",
       "      <td>14</td>\n",
       "      <td>3</td>\n",
       "      <td>9</td>\n",
       "      <td>0.07</td>\n",
       "      <td>1</td>\n",
       "      <td>Middle price</td>\n",
       "    </tr>\n",
       "    <tr>\n",
       "      <th>13</th>\n",
       "      <td>8024</td>\n",
       "      <td>Park Slope</td>\n",
       "      <td>40.68069</td>\n",
       "      <td>-73.97706</td>\n",
       "      <td>Private room</td>\n",
       "      <td>115</td>\n",
       "      <td>4</td>\n",
       "      <td>1</td>\n",
       "      <td>143</td>\n",
       "      <td>1.15</td>\n",
       "      <td>0</td>\n",
       "      <td>Low price</td>\n",
       "    </tr>\n",
       "    <tr>\n",
       "      <th>14</th>\n",
       "      <td>8025</td>\n",
       "      <td>Brooklyn</td>\n",
       "      <td>40.67989</td>\n",
       "      <td>-73.97798</td>\n",
       "      <td>Private room</td>\n",
       "      <td>80</td>\n",
       "      <td>4</td>\n",
       "      <td>1</td>\n",
       "      <td>41</td>\n",
       "      <td>0.37</td>\n",
       "      <td>150</td>\n",
       "      <td>Low price</td>\n",
       "    </tr>\n",
       "    <tr>\n",
       "      <th>15</th>\n",
       "      <td>8110</td>\n",
       "      <td>Brooklyn</td>\n",
       "      <td>40.68001</td>\n",
       "      <td>-73.97865</td>\n",
       "      <td>Private room</td>\n",
       "      <td>32</td>\n",
       "      <td>15</td>\n",
       "      <td>2</td>\n",
       "      <td>77</td>\n",
       "      <td>0.64</td>\n",
       "      <td>0</td>\n",
       "      <td>Low price</td>\n",
       "    </tr>\n",
       "    <tr>\n",
       "      <th>16</th>\n",
       "      <td>8490</td>\n",
       "      <td>Brooklyn</td>\n",
       "      <td>40.68371</td>\n",
       "      <td>-73.94028</td>\n",
       "      <td>Entire home/apt</td>\n",
       "      <td>120</td>\n",
       "      <td>63</td>\n",
       "      <td>2</td>\n",
       "      <td>105</td>\n",
       "      <td>0.84</td>\n",
       "      <td>296</td>\n",
       "      <td>Low price</td>\n",
       "    </tr>\n",
       "    <tr>\n",
       "      <th>17</th>\n",
       "      <td>8505</td>\n",
       "      <td>Brooklyn</td>\n",
       "      <td>40.65599</td>\n",
       "      <td>-73.97519</td>\n",
       "      <td>Private room</td>\n",
       "      <td>60</td>\n",
       "      <td>289</td>\n",
       "      <td>1</td>\n",
       "      <td>23</td>\n",
       "      <td>1.22</td>\n",
       "      <td>78</td>\n",
       "      <td>Low price</td>\n",
       "    </tr>\n",
       "    <tr>\n",
       "      <th>18</th>\n",
       "      <td>9518</td>\n",
       "      <td>Manhattan</td>\n",
       "      <td>40.86482</td>\n",
       "      <td>-73.92106</td>\n",
       "      <td>Private room</td>\n",
       "      <td>44</td>\n",
       "      <td>12</td>\n",
       "      <td>3</td>\n",
       "      <td>114</td>\n",
       "      <td>1.12</td>\n",
       "      <td>353</td>\n",
       "      <td>Low price</td>\n",
       "    </tr>\n",
       "    <tr>\n",
       "      <th>19</th>\n",
       "      <td>9657</td>\n",
       "      <td>East Village</td>\n",
       "      <td>40.72920</td>\n",
       "      <td>-73.98542</td>\n",
       "      <td>Entire home/apt</td>\n",
       "      <td>180</td>\n",
       "      <td>30</td>\n",
       "      <td>10</td>\n",
       "      <td>33</td>\n",
       "      <td>0.26</td>\n",
       "      <td>86</td>\n",
       "      <td>Low price</td>\n",
       "    </tr>\n",
       "  </tbody>\n",
       "</table>\n",
       "</div>"
      ],
      "text/plain": [
       "      id        neighborhood  latitude  longitude        room_type  price  \\\n",
       "0   2595             Midtown  40.75362  -73.98377  Entire home/apt    225   \n",
       "1   3831            Brooklyn  40.68514  -73.95976  Entire home/apt     89   \n",
       "2   5099           Manhattan  40.74767  -73.97500  Entire home/apt    200   \n",
       "3   5121  Bedford-Stuyvesant  40.68688  -73.95596     Private room     60   \n",
       "4   5178           Manhattan  40.76489  -73.98493     Private room     79   \n",
       "5   5238     Lower East Side  40.71344  -73.99037  Entire home/apt    150   \n",
       "6   5441           Manhattan  40.76076  -73.98867     Private room     85   \n",
       "7   5803          Park Slope  40.66829  -73.98779     Private room     89   \n",
       "8   6090           Manhattan  40.73530  -74.00525  Entire home/apt    120   \n",
       "9   6848        Williamsburg  40.70837  -73.95352  Entire home/apt    140   \n",
       "10  7097            Brooklyn  40.69169  -73.97185  Entire home/apt    199   \n",
       "11  7726            Brooklyn  40.67592  -73.94694  Entire home/apt     99   \n",
       "12  7801            Brooklyn  40.71842  -73.95718  Entire home/apt    299   \n",
       "13  8024          Park Slope  40.68069  -73.97706     Private room    115   \n",
       "14  8025            Brooklyn  40.67989  -73.97798     Private room     80   \n",
       "15  8110            Brooklyn  40.68001  -73.97865     Private room     32   \n",
       "16  8490            Brooklyn  40.68371  -73.94028  Entire home/apt    120   \n",
       "17  8505            Brooklyn  40.65599  -73.97519     Private room     60   \n",
       "18  9518           Manhattan  40.86482  -73.92106     Private room     44   \n",
       "19  9657        East Village  40.72920  -73.98542  Entire home/apt    180   \n",
       "\n",
       "    days_occupied_in_2019  minimum_nights  number_of_reviews  \\\n",
       "0                      15              10                 48   \n",
       "1                     188               1                295   \n",
       "2                     362               3                 78   \n",
       "3                       0              29                 49   \n",
       "4                     141               2                454   \n",
       "5                      86               1                161   \n",
       "6                     323               3                204   \n",
       "7                      12               4                175   \n",
       "8                     226             180                 27   \n",
       "9                     319               2                170   \n",
       "10                     15               1                215   \n",
       "11                    172               3                 75   \n",
       "12                     14               3                  9   \n",
       "13                      4               1                143   \n",
       "14                      4               1                 41   \n",
       "15                     15               2                 77   \n",
       "16                     63               2                105   \n",
       "17                    289               1                 23   \n",
       "18                     12               3                114   \n",
       "19                     30              10                 33   \n",
       "\n",
       "    reviews_per_month  availability_2020 Price category  \n",
       "0                0.39                  1   Middle price  \n",
       "1                4.67                  1      Low price  \n",
       "2                0.60                 19   Middle price  \n",
       "3                0.38                365      Low price  \n",
       "4                3.52                242      Low price  \n",
       "5                1.29                  1      Low price  \n",
       "6                1.56                 10      Low price  \n",
       "7                1.35                  0      Low price  \n",
       "8                0.22                271      Low price  \n",
       "9                1.33                  0      Low price  \n",
       "10               1.79                  0      Low price  \n",
       "11               4.43                 63      Low price  \n",
       "12               0.07                  1   Middle price  \n",
       "13               1.15                  0      Low price  \n",
       "14               0.37                150      Low price  \n",
       "15               0.64                  0      Low price  \n",
       "16               0.84                296      Low price  \n",
       "17               1.22                 78      Low price  \n",
       "18               1.12                353      Low price  \n",
       "19               0.26                 86      Low price  "
      ]
     },
     "execution_count": 9,
     "metadata": {},
     "output_type": "execute_result"
    }
   ],
   "source": [
    "df_rentals.head(20)"
   ]
  },
  {
   "cell_type": "code",
   "execution_count": 10,
   "id": "8c21c066",
   "metadata": {},
   "outputs": [
    {
     "data": {
      "text/plain": [
       "(17614, 12)"
      ]
     },
     "execution_count": 10,
     "metadata": {},
     "output_type": "execute_result"
    }
   ],
   "source": [
    "df_rentals.shape"
   ]
  },
  {
   "cell_type": "markdown",
   "id": "c3927404",
   "metadata": {},
   "source": [
    "##### Missing values"
   ]
  },
  {
   "cell_type": "code",
   "execution_count": 11,
   "id": "eb8eda70",
   "metadata": {},
   "outputs": [
    {
     "data": {
      "text/plain": [
       "id                       0\n",
       "neighborhood             0\n",
       "latitude                 0\n",
       "longitude                0\n",
       "room_type                0\n",
       "price                    0\n",
       "days_occupied_in_2019    0\n",
       "minimum_nights           0\n",
       "number_of_reviews        0\n",
       "reviews_per_month        0\n",
       "availability_2020        0\n",
       "Price category           0\n",
       "dtype: int64"
      ]
     },
     "execution_count": 11,
     "metadata": {},
     "output_type": "execute_result"
    }
   ],
   "source": [
    "# Check for missing values\n",
    "\n",
    "df_rentals.isnull().sum()\n",
    "\n",
    "# No missing values to handle"
   ]
  },
  {
   "cell_type": "markdown",
   "id": "e66c010a",
   "metadata": {},
   "source": [
    "##### Duplicates check"
   ]
  },
  {
   "cell_type": "code",
   "execution_count": 12,
   "id": "01ed2840",
   "metadata": {},
   "outputs": [],
   "source": [
    "dups = df_rentals.duplicated()"
   ]
  },
  {
   "cell_type": "code",
   "execution_count": 13,
   "id": "124a3cb3",
   "metadata": {},
   "outputs": [
    {
     "data": {
      "text/plain": [
       "(17614,)"
      ]
     },
     "execution_count": 13,
     "metadata": {},
     "output_type": "execute_result"
    }
   ],
   "source": [
    "dups.shape # No dups"
   ]
  },
  {
   "cell_type": "markdown",
   "id": "a4238c4a",
   "metadata": {},
   "source": [
    "##### Hypothesis\n",
    "\n",
    "The more reviews a rental unit has the more monthly reviews it tends to receive?"
   ]
  },
  {
   "cell_type": "markdown",
   "id": "3df767c7",
   "metadata": {},
   "source": [
    "##### Extreme values checks"
   ]
  },
  {
   "cell_type": "code",
   "execution_count": 19,
   "id": "c7bb1cf2",
   "metadata": {},
   "outputs": [
    {
     "name": "stderr",
     "output_type": "stream",
     "text": [
      "C:\\Users\\admin\\AppData\\Local\\Temp\\ipykernel_15068\\3814426798.py:1: UserWarning: \n",
      "\n",
      "`distplot` is a deprecated function and will be removed in seaborn v0.14.0.\n",
      "\n",
      "Please adapt your code to use either `displot` (a figure-level function with\n",
      "similar flexibility) or `histplot` (an axes-level function for histograms).\n",
      "\n",
      "For a guide to updating your code to use the new functions, please see\n",
      "https://gist.github.com/mwaskom/de44147ed2974457ad6372750bbe5751\n",
      "\n",
      "  sns.distplot(df_rentals['reviews_per_month'], bins=25) # Shows extreme values\n"
     ]
    },
    {
     "data": {
      "text/plain": [
       "<Axes: xlabel='reviews_per_month', ylabel='Density'>"
      ]
     },
     "execution_count": 19,
     "metadata": {},
     "output_type": "execute_result"
    },
    {
     "data": {
      "image/png": "[encoded data removed]",
      "text/plain": [
       "<Figure size 640x480 with 1 Axes>"
      ]
     },
     "metadata": {},
     "output_type": "display_data"
    }
   ],
   "source": [
    "sns.distplot(df_rentals['reviews_per_month'], bins=25) # Shows extreme values\n",
    "\n",
    "# Some of the outliers in the high values may need to be removed, but let's try without doing so first."
   ]
  },
  {
   "cell_type": "code",
   "execution_count": 20,
   "id": "d98961b5",
   "metadata": {},
   "outputs": [
    {
     "data": {
      "text/plain": [
       "1.607059725218576"
      ]
     },
     "execution_count": 20,
     "metadata": {},
     "output_type": "execute_result"
    }
   ],
   "source": [
    "df_rentals['reviews_per_month'].mean() # Check the mean"
   ]
  },
  {
   "cell_type": "code",
   "execution_count": 21,
   "id": "7c0b0dad",
   "metadata": {},
   "outputs": [
    {
     "data": {
      "text/plain": [
       "1.06"
      ]
     },
     "execution_count": 21,
     "metadata": {},
     "output_type": "execute_result"
    }
   ],
   "source": [
    "df_rentals['reviews_per_month'].median() # Check the median"
   ]
  },
  {
   "cell_type": "code",
   "execution_count": 22,
   "id": "5d4f7b85",
   "metadata": {},
   "outputs": [
    {
     "data": {
      "text/plain": [
       "19.25"
      ]
     },
     "execution_count": 22,
     "metadata": {},
     "output_type": "execute_result"
    }
   ],
   "source": [
    "df_rentals['reviews_per_month'].max() # Check the max"
   ]
  },
  {
   "cell_type": "markdown",
   "id": "bee474c4",
   "metadata": {},
   "source": [
    "### 3. Data prep for regression analysis "
   ]
  },
  {
   "cell_type": "code",
   "execution_count": 24,
   "id": "71edd87d",
   "metadata": {},
   "outputs": [
    {
     "data": {
      "image/png": "[encoded data removed]",
      "text/plain": [
       "<Figure size 640x480 with 1 Axes>"
      ]
     },
     "metadata": {},
     "output_type": "display_data"
    }
   ],
   "source": [
    "# Create a scatterplot using matplotlib for another look at how the chosen variables plot against each other.\n",
    "\n",
    "df_rentals.plot(x = 'number_of_reviews', y='reviews_per_month',style='o') # The style option creates a scatterplot; without it, we only have lines.\n",
    "plt.title('Number of reviews vs reviews per unit')  \n",
    "plt.xlabel('Number of reviews')  \n",
    "plt.ylabel('reviews per month')  \n",
    "plt.show()"
   ]
  },
  {
   "cell_type": "code",
   "execution_count": 25,
   "id": "76024f3e",
   "metadata": {},
   "outputs": [],
   "source": [
    "# Reshape the variables into NumPy arrays and put them into separate objects.\n",
    "\n",
    "X = df_rentals['number_of_reviews'].values.reshape(-1,1)\n",
    "y = df_rentals['reviews_per_month'].values.reshape(-1,1)"
   ]
  },
  {
   "cell_type": "code",
   "execution_count": 27,
   "id": "8597cbb9",
   "metadata": {
    "scrolled": false
   },
   "outputs": [
    {
     "data": {
      "text/plain": [
       "array([[ 48],\n",
       "       [295],\n",
       "       [ 78],\n",
       "       ...,\n",
       "       [  2],\n",
       "       [  1],\n",
       "       [  3]], dtype=int64)"
      ]
     },
     "execution_count": 27,
     "metadata": {},
     "output_type": "execute_result"
    }
   ],
   "source": [
    "X"
   ]
  },
  {
   "cell_type": "code",
   "execution_count": 28,
   "id": "e060f262",
   "metadata": {},
   "outputs": [
    {
     "data": {
      "text/plain": [
       "array([[0.39],\n",
       "       [4.67],\n",
       "       [0.6 ],\n",
       "       ...,\n",
       "       [0.12],\n",
       "       [0.27],\n",
       "       [0.13]])"
      ]
     },
     "execution_count": 28,
     "metadata": {},
     "output_type": "execute_result"
    }
   ],
   "source": [
    "y"
   ]
  },
  {
   "cell_type": "code",
   "execution_count": 29,
   "id": "3ab54311",
   "metadata": {},
   "outputs": [],
   "source": [
    "# Split data into a training set and a test set.\n",
    "\n",
    "X_train, X_test, y_train, y_test = train_test_split(X, y, test_size=0.3, random_state=0)"
   ]
  },
  {
   "cell_type": "markdown",
   "id": "db8149a2",
   "metadata": {},
   "source": [
    "### 4. Regression analysis"
   ]
  },
  {
   "cell_type": "code",
   "execution_count": 30,
   "id": "acf28773",
   "metadata": {},
   "outputs": [],
   "source": [
    "# Create a regression object.\n",
    "\n",
    "regression = LinearRegression()  # This is the regression object, which will be fit onto the training set."
   ]
  },
  {
   "cell_type": "code",
   "execution_count": 31,
   "id": "8f6c8628",
   "metadata": {},
   "outputs": [
    {
     "data": {
      "text/html": [
       "<style>#sk-container-id-1 {color: black;}#sk-container-id-1 pre{padding: 0;}#sk-container-id-1 div.sk-toggleable {background-color: white;}#sk-container-id-1 label.sk-toggleable__label {cursor: pointer;display: block;width: 100%;margin-bottom: 0;padding: 0.3em;box-sizing: border-box;text-align: center;}#sk-container-id-1 label.sk-toggleable__label-arrow:before {content: \"▸\";float: left;margin-right: 0.25em;color: #696969;}#sk-container-id-1 label.sk-toggleable__label-arrow:hover:before {color: black;}#sk-container-id-1 div.sk-estimator:hover label.sk-toggleable__label-arrow:before {color: black;}#sk-container-id-1 div.sk-toggleable__content {max-height: 0;max-width: 0;overflow: hidden;text-align: left;background-color: #f0f8ff;}#sk-container-id-1 div.sk-toggleable__content pre {margin: 0.2em;color: black;border-radius: 0.25em;background-color: #f0f8ff;}#sk-container-id-1 input.sk-toggleable__control:checked~div.sk-toggleable__content {max-height: 200px;max-width: 100%;overflow: auto;}#sk-container-id-1 input.sk-toggleable__control:checked~label.sk-toggleable__label-arrow:before {content: \"▾\";}#sk-container-id-1 div.sk-estimator input.sk-toggleable__control:checked~label.sk-toggleable__label {background-color: #d4ebff;}#sk-container-id-1 div.sk-label input.sk-toggleable__control:checked~label.sk-toggleable__label {background-color: #d4ebff;}#sk-container-id-1 input.sk-hidden--visually {border: 0;clip: rect(1px 1px 1px 1px);clip: rect(1px, 1px, 1px, 1px);height: 1px;margin: -1px;overflow: hidden;padding: 0;position: absolute;width: 1px;}#sk-container-id-1 div.sk-estimator {font-family: monospace;background-color: #f0f8ff;border: 1px dotted black;border-radius: 0.25em;box-sizing: border-box;margin-bottom: 0.5em;}#sk-container-id-1 div.sk-estimator:hover {background-color: #d4ebff;}#sk-container-id-1 div.sk-parallel-item::after {content: \"\";width: 100%;border-bottom: 1px solid gray;flex-grow: 1;}#sk-container-id-1 div.sk-label:hover label.sk-toggleable__label {background-color: #d4ebff;}#sk-container-id-1 div.sk-serial::before {content: \"\";position: absolute;border-left: 1px solid gray;box-sizing: border-box;top: 0;bottom: 0;left: 50%;z-index: 0;}#sk-container-id-1 div.sk-serial {display: flex;flex-direction: column;align-items: center;background-color: white;padding-right: 0.2em;padding-left: 0.2em;position: relative;}#sk-container-id-1 div.sk-item {position: relative;z-index: 1;}#sk-container-id-1 div.sk-parallel {display: flex;align-items: stretch;justify-content: center;background-color: white;position: relative;}#sk-container-id-1 div.sk-item::before, #sk-container-id-1 div.sk-parallel-item::before {content: \"\";position: absolute;border-left: 1px solid gray;box-sizing: border-box;top: 0;bottom: 0;left: 50%;z-index: -1;}#sk-container-id-1 div.sk-parallel-item {display: flex;flex-direction: column;z-index: 1;position: relative;background-color: white;}#sk-container-id-1 div.sk-parallel-item:first-child::after {align-self: flex-end;width: 50%;}#sk-container-id-1 div.sk-parallel-item:last-child::after {align-self: flex-start;width: 50%;}#sk-container-id-1 div.sk-parallel-item:only-child::after {width: 0;}#sk-container-id-1 div.sk-dashed-wrapped {border: 1px dashed gray;margin: 0 0.4em 0.5em 0.4em;box-sizing: border-box;padding-bottom: 0.4em;background-color: white;}#sk-container-id-1 div.sk-label label {font-family: monospace;font-weight: bold;display: inline-block;line-height: 1.2em;}#sk-container-id-1 div.sk-label-container {text-align: center;}#sk-container-id-1 div.sk-container {/* jupyter's `normalize.less` sets `[hidden] { display: none; }` but bootstrap.min.css set `[hidden] { display: none !important; }` so we also need the `!important` here to be able to override the default hidden behavior on the sphinx rendered scikit-learn.org. See: https://github.com/scikit-learn/scikit-learn/issues/21755 */display: inline-block !important;position: relative;}#sk-container-id-1 div.sk-text-repr-fallback {display: none;}</style><div id=\"sk-container-id-1\" class=\"sk-top-container\"><div class=\"sk-text-repr-fallback\"><pre>LinearRegression()</pre><b>In a Jupyter environment, please rerun this cell to show the HTML representation or trust the notebook. <br />On GitHub, the HTML representation is unable to render, please try loading this page with nbviewer.org.</b></div><div class=\"sk-container\" hidden><div class=\"sk-item\"><div class=\"sk-estimator sk-toggleable\"><input class=\"sk-toggleable__control sk-hidden--visually\" id=\"sk-estimator-id-1\" type=\"checkbox\" checked><label for=\"sk-estimator-id-1\" class=\"sk-toggleable__label sk-toggleable__label-arrow\">LinearRegression</label><div class=\"sk-toggleable__content\"><pre>LinearRegression()</pre></div></div></div></div></div>"
      ],
      "text/plain": [
       "LinearRegression()"
      ]
     },
     "execution_count": 31,
     "metadata": {},
     "output_type": "execute_result"
    }
   ],
   "source": [
    "# Fit the regression object onto the training set.\n",
    "\n",
    "regression.fit(X_train, y_train)"
   ]
  },
  {
   "cell_type": "code",
   "execution_count": 32,
   "id": "979a3aac",
   "metadata": {},
   "outputs": [],
   "source": [
    "# Predict the values of y using X.\n",
    "\n",
    "y_predicted = regression.predict(X_test)"
   ]
  },
  {
   "cell_type": "code",
   "execution_count": 49,
   "id": "4d19846d",
   "metadata": {},
   "outputs": [
    {
     "data": {
      "image/png": "[encoded data removed]",
      "text/plain": [
       "<Figure size 640x480 with 1 Axes>"
      ]
     },
     "metadata": {},
     "output_type": "display_data"
    }
   ],
   "source": [
    "# Create a plot that shows the regression line from the model on the test set.\n",
    "\n",
    "plot_test = plt\n",
    "plot_test.scatter(X_test, y_test, color='gray', s = 15)\n",
    "plot_test.plot(X_test, y_predicted, color='red', linewidth =3)\n",
    "plot_test.title('Number of reviews vs reviews per month (Test set)')\n",
    "plot_test.xlabel('number of reviews')\n",
    "plot_test.ylabel('reviews per month')\n",
    "plot_test.show()"
   ]
  },
  {
   "cell_type": "code",
   "execution_count": 34,
   "id": "ee8421fc",
   "metadata": {},
   "outputs": [],
   "source": [
    "# Create objects that contain the model summary statistics.\n",
    "\n",
    "rmse = mean_squared_error(y_test, y_predicted) # This is the mean squared error\n",
    "r2 = r2_score(y_test, y_predicted) # This is the R2 score. "
   ]
  },
  {
   "cell_type": "code",
   "execution_count": 35,
   "id": "aa874eb2",
   "metadata": {},
   "outputs": [
    {
     "name": "stdout",
     "output_type": "stream",
     "text": [
      "Slope: [[0.01869818]]\n",
      "Mean squared error:  1.2059583367722986\n",
      "R2 score:  0.5729491591271929\n"
     ]
    }
   ],
   "source": [
    "# Print the model summary statistics. This is where you evaluate the performance of the model.\n",
    "\n",
    "print('Slope:' ,regression.coef_)\n",
    "print('Mean squared error: ', rmse)\n",
    "print('R2 score: ', r2)"
   ]
  },
  {
   "cell_type": "code",
   "execution_count": 36,
   "id": "27e7b634",
   "metadata": {},
   "outputs": [
    {
     "data": {
      "text/plain": [
       "array([[1.39586842],\n",
       "       [0.64794131],\n",
       "       [1.73243562],\n",
       "       ...,\n",
       "       [3.99491514],\n",
       "       [1.04060305],\n",
       "       [1.09669758]])"
      ]
     },
     "execution_count": 36,
     "metadata": {},
     "output_type": "execute_result"
    }
   ],
   "source": [
    "y_predicted"
   ]
  },
  {
   "cell_type": "code",
   "execution_count": 37,
   "id": "937ffd46",
   "metadata": {},
   "outputs": [
    {
     "data": {
      "text/html": [
       "<div>\n",
       "<style scoped>\n",
       "    .dataframe tbody tr th:only-of-type {\n",
       "        vertical-align: middle;\n",
       "    }\n",
       "\n",
       "    .dataframe tbody tr th {\n",
       "        vertical-align: top;\n",
       "    }\n",
       "\n",
       "    .dataframe thead th {\n",
       "        text-align: right;\n",
       "    }\n",
       "</style>\n",
       "<table border=\"1\" class=\"dataframe\">\n",
       "  <thead>\n",
       "    <tr style=\"text-align: right;\">\n",
       "      <th></th>\n",
       "      <th>Actual</th>\n",
       "      <th>Predicted</th>\n",
       "    </tr>\n",
       "  </thead>\n",
       "  <tbody>\n",
       "    <tr>\n",
       "      <th>0</th>\n",
       "      <td>0.49</td>\n",
       "      <td>1.395868</td>\n",
       "    </tr>\n",
       "    <tr>\n",
       "      <th>1</th>\n",
       "      <td>0.10</td>\n",
       "      <td>0.647941</td>\n",
       "    </tr>\n",
       "    <tr>\n",
       "      <th>2</th>\n",
       "      <td>0.99</td>\n",
       "      <td>1.732436</td>\n",
       "    </tr>\n",
       "    <tr>\n",
       "      <th>3</th>\n",
       "      <td>1.03</td>\n",
       "      <td>1.844625</td>\n",
       "    </tr>\n",
       "    <tr>\n",
       "      <th>4</th>\n",
       "      <td>0.17</td>\n",
       "      <td>0.610545</td>\n",
       "    </tr>\n",
       "    <tr>\n",
       "      <th>5</th>\n",
       "      <td>1.20</td>\n",
       "      <td>0.891018</td>\n",
       "    </tr>\n",
       "    <tr>\n",
       "      <th>6</th>\n",
       "      <td>3.99</td>\n",
       "      <td>3.228290</td>\n",
       "    </tr>\n",
       "    <tr>\n",
       "      <th>7</th>\n",
       "      <td>0.35</td>\n",
       "      <td>0.872319</td>\n",
       "    </tr>\n",
       "    <tr>\n",
       "      <th>8</th>\n",
       "      <td>0.33</td>\n",
       "      <td>1.115396</td>\n",
       "    </tr>\n",
       "    <tr>\n",
       "      <th>9</th>\n",
       "      <td>0.98</td>\n",
       "      <td>2.237286</td>\n",
       "    </tr>\n",
       "    <tr>\n",
       "      <th>10</th>\n",
       "      <td>1.64</td>\n",
       "      <td>1.564152</td>\n",
       "    </tr>\n",
       "    <tr>\n",
       "      <th>11</th>\n",
       "      <td>1.86</td>\n",
       "      <td>1.414567</td>\n",
       "    </tr>\n",
       "    <tr>\n",
       "      <th>12</th>\n",
       "      <td>0.13</td>\n",
       "      <td>0.666639</td>\n",
       "    </tr>\n",
       "    <tr>\n",
       "      <th>13</th>\n",
       "      <td>0.69</td>\n",
       "      <td>1.264981</td>\n",
       "    </tr>\n",
       "    <tr>\n",
       "      <th>14</th>\n",
       "      <td>0.73</td>\n",
       "      <td>1.077999</td>\n",
       "    </tr>\n",
       "    <tr>\n",
       "      <th>15</th>\n",
       "      <td>0.48</td>\n",
       "      <td>0.778829</td>\n",
       "    </tr>\n",
       "    <tr>\n",
       "      <th>16</th>\n",
       "      <td>1.24</td>\n",
       "      <td>0.984509</td>\n",
       "    </tr>\n",
       "    <tr>\n",
       "      <th>17</th>\n",
       "      <td>0.87</td>\n",
       "      <td>0.591847</td>\n",
       "    </tr>\n",
       "    <tr>\n",
       "      <th>18</th>\n",
       "      <td>0.36</td>\n",
       "      <td>0.629243</td>\n",
       "    </tr>\n",
       "    <tr>\n",
       "      <th>19</th>\n",
       "      <td>0.10</td>\n",
       "      <td>0.629243</td>\n",
       "    </tr>\n",
       "    <tr>\n",
       "      <th>20</th>\n",
       "      <td>0.29</td>\n",
       "      <td>0.629243</td>\n",
       "    </tr>\n",
       "    <tr>\n",
       "      <th>21</th>\n",
       "      <td>0.04</td>\n",
       "      <td>0.629243</td>\n",
       "    </tr>\n",
       "    <tr>\n",
       "      <th>22</th>\n",
       "      <td>0.12</td>\n",
       "      <td>0.610545</td>\n",
       "    </tr>\n",
       "    <tr>\n",
       "      <th>23</th>\n",
       "      <td>1.35</td>\n",
       "      <td>1.545454</td>\n",
       "    </tr>\n",
       "    <tr>\n",
       "      <th>24</th>\n",
       "      <td>0.15</td>\n",
       "      <td>0.629243</td>\n",
       "    </tr>\n",
       "    <tr>\n",
       "      <th>25</th>\n",
       "      <td>0.51</td>\n",
       "      <td>0.816225</td>\n",
       "    </tr>\n",
       "    <tr>\n",
       "      <th>26</th>\n",
       "      <td>0.82</td>\n",
       "      <td>1.059301</td>\n",
       "    </tr>\n",
       "    <tr>\n",
       "      <th>27</th>\n",
       "      <td>2.46</td>\n",
       "      <td>1.283679</td>\n",
       "    </tr>\n",
       "    <tr>\n",
       "      <th>28</th>\n",
       "      <td>0.43</td>\n",
       "      <td>1.059301</td>\n",
       "    </tr>\n",
       "    <tr>\n",
       "      <th>29</th>\n",
       "      <td>1.27</td>\n",
       "      <td>1.713737</td>\n",
       "    </tr>\n",
       "  </tbody>\n",
       "</table>\n",
       "</div>"
      ],
      "text/plain": [
       "    Actual  Predicted\n",
       "0     0.49   1.395868\n",
       "1     0.10   0.647941\n",
       "2     0.99   1.732436\n",
       "3     1.03   1.844625\n",
       "4     0.17   0.610545\n",
       "5     1.20   0.891018\n",
       "6     3.99   3.228290\n",
       "7     0.35   0.872319\n",
       "8     0.33   1.115396\n",
       "9     0.98   2.237286\n",
       "10    1.64   1.564152\n",
       "11    1.86   1.414567\n",
       "12    0.13   0.666639\n",
       "13    0.69   1.264981\n",
       "14    0.73   1.077999\n",
       "15    0.48   0.778829\n",
       "16    1.24   0.984509\n",
       "17    0.87   0.591847\n",
       "18    0.36   0.629243\n",
       "19    0.10   0.629243\n",
       "20    0.29   0.629243\n",
       "21    0.04   0.629243\n",
       "22    0.12   0.610545\n",
       "23    1.35   1.545454\n",
       "24    0.15   0.629243\n",
       "25    0.51   0.816225\n",
       "26    0.82   1.059301\n",
       "27    2.46   1.283679\n",
       "28    0.43   1.059301\n",
       "29    1.27   1.713737"
      ]
     },
     "execution_count": 37,
     "metadata": {},
     "output_type": "execute_result"
    }
   ],
   "source": [
    "data = pd.DataFrame({'Actual': y_test.flatten(), 'Predicted': y_predicted.flatten()})\n",
    "data.head(30)"
   ]
  },
  {
   "cell_type": "markdown",
   "id": "bd27216d",
   "metadata": {},
   "source": [
    "##### Compare how the regression fits the training set"
   ]
  },
  {
   "cell_type": "code",
   "execution_count": 38,
   "id": "cbf8a03b",
   "metadata": {},
   "outputs": [],
   "source": [
    "# Predict.\n",
    "\n",
    "y_predicted_train = regression.predict(X_train) # This is predicting X_train!"
   ]
  },
  {
   "cell_type": "code",
   "execution_count": 39,
   "id": "cf4f3797",
   "metadata": {},
   "outputs": [],
   "source": [
    "rmse = mean_squared_error(y_train, y_predicted_train)\n",
    "r2 = r2_score(y_train, y_predicted_train)"
   ]
  },
  {
   "cell_type": "code",
   "execution_count": 40,
   "id": "dd1e0618",
   "metadata": {},
   "outputs": [
    {
     "name": "stdout",
     "output_type": "stream",
     "text": [
      "Slope: [[0.01869818]]\n",
      "Mean squared error:  1.1266495612247185\n",
      "R2 score:  0.5683989015859279\n"
     ]
    }
   ],
   "source": [
    "print('Slope:' ,regression.coef_)\n",
    "print('Mean squared error: ', rmse)\n",
    "print('R2 score: ', r2)"
   ]
  },
  {
   "cell_type": "code",
   "execution_count": 50,
   "id": "2f24304d",
   "metadata": {},
   "outputs": [
    {
     "data": {
      "image/png": "[encoded data removed]",
      "text/plain": [
       "<Figure size 640x480 with 1 Axes>"
      ]
     },
     "metadata": {},
     "output_type": "display_data"
    }
   ],
   "source": [
    "# Visualizing the training set results.\n",
    "\n",
    "plot_test = plt\n",
    "plot_test.scatter(X_train, y_train, color='green', s = 15)\n",
    "plot_test.plot(X_train, y_predicted_train, color='red', linewidth =3)\n",
    "plot_test.title('Number of reviews vs reviews per month (Train set)')\n",
    "plot_test.xlabel('number of reviews')\n",
    "plot_test.ylabel('reviews per month')\n",
    "plot_test.show()"
   ]
  },
  {
   "cell_type": "markdown",
   "id": "08bd8f10",
   "metadata": {},
   "source": [
    "### Bonus: performance improvement after removing outliers"
   ]
  },
  {
   "cell_type": "code",
   "execution_count": 46,
   "id": "e3d187af",
   "metadata": {},
   "outputs": [
    {
     "data": {
      "text/html": [
       "<div>\n",
       "<style scoped>\n",
       "    .dataframe tbody tr th:only-of-type {\n",
       "        vertical-align: middle;\n",
       "    }\n",
       "\n",
       "    .dataframe tbody tr th {\n",
       "        vertical-align: top;\n",
       "    }\n",
       "\n",
       "    .dataframe thead th {\n",
       "        text-align: right;\n",
       "    }\n",
       "</style>\n",
       "<table border=\"1\" class=\"dataframe\">\n",
       "  <thead>\n",
       "    <tr style=\"text-align: right;\">\n",
       "      <th></th>\n",
       "      <th>id</th>\n",
       "      <th>neighborhood</th>\n",
       "      <th>latitude</th>\n",
       "      <th>longitude</th>\n",
       "      <th>room_type</th>\n",
       "      <th>price</th>\n",
       "      <th>days_occupied_in_2019</th>\n",
       "      <th>minimum_nights</th>\n",
       "      <th>number_of_reviews</th>\n",
       "      <th>reviews_per_month</th>\n",
       "      <th>availability_2020</th>\n",
       "      <th>Price category</th>\n",
       "    </tr>\n",
       "  </thead>\n",
       "  <tbody>\n",
       "    <tr>\n",
       "      <th>1542</th>\n",
       "      <td>30348624</td>\n",
       "      <td>Jamaica</td>\n",
       "      <td>40.66272</td>\n",
       "      <td>-73.76849</td>\n",
       "      <td>Entire home/apt</td>\n",
       "      <td>89</td>\n",
       "      <td>21</td>\n",
       "      <td>1</td>\n",
       "      <td>149</td>\n",
       "      <td>12.11</td>\n",
       "      <td>1</td>\n",
       "      <td>Low price</td>\n",
       "    </tr>\n",
       "    <tr>\n",
       "      <th>1545</th>\n",
       "      <td>21366188</td>\n",
       "      <td>Jamaica</td>\n",
       "      <td>40.66875</td>\n",
       "      <td>-73.78506</td>\n",
       "      <td>Entire home/apt</td>\n",
       "      <td>96</td>\n",
       "      <td>23</td>\n",
       "      <td>1</td>\n",
       "      <td>324</td>\n",
       "      <td>12.99</td>\n",
       "      <td>0</td>\n",
       "      <td>Low price</td>\n",
       "    </tr>\n",
       "    <tr>\n",
       "      <th>1559</th>\n",
       "      <td>29489893</td>\n",
       "      <td>Jamaica</td>\n",
       "      <td>40.68547</td>\n",
       "      <td>-73.79063</td>\n",
       "      <td>Entire home/apt</td>\n",
       "      <td>20</td>\n",
       "      <td>290</td>\n",
       "      <td>1</td>\n",
       "      <td>175</td>\n",
       "      <td>13.03</td>\n",
       "      <td>41</td>\n",
       "      <td>Low price</td>\n",
       "    </tr>\n",
       "    <tr>\n",
       "      <th>1889</th>\n",
       "      <td>20196339</td>\n",
       "      <td>Queens</td>\n",
       "      <td>40.66941</td>\n",
       "      <td>-73.79148</td>\n",
       "      <td>Entire home/apt</td>\n",
       "      <td>54</td>\n",
       "      <td>51</td>\n",
       "      <td>1</td>\n",
       "      <td>377</td>\n",
       "      <td>13.29</td>\n",
       "      <td>0</td>\n",
       "      <td>Low price</td>\n",
       "    </tr>\n",
       "    <tr>\n",
       "      <th>1921</th>\n",
       "      <td>15262831</td>\n",
       "      <td>Queens</td>\n",
       "      <td>40.66735</td>\n",
       "      <td>-73.76647</td>\n",
       "      <td>Entire home/apt</td>\n",
       "      <td>49</td>\n",
       "      <td>220</td>\n",
       "      <td>1</td>\n",
       "      <td>494</td>\n",
       "      <td>12.73</td>\n",
       "      <td>119</td>\n",
       "      <td>Low price</td>\n",
       "    </tr>\n",
       "    <tr>\n",
       "      <th>1941</th>\n",
       "      <td>28826608</td>\n",
       "      <td>Queens</td>\n",
       "      <td>40.66457</td>\n",
       "      <td>-73.76918</td>\n",
       "      <td>Entire home/apt</td>\n",
       "      <td>75</td>\n",
       "      <td>329</td>\n",
       "      <td>1</td>\n",
       "      <td>204</td>\n",
       "      <td>15.30</td>\n",
       "      <td>166</td>\n",
       "      <td>Low price</td>\n",
       "    </tr>\n",
       "    <tr>\n",
       "      <th>10737</th>\n",
       "      <td>18173787</td>\n",
       "      <td>East Elmhurst</td>\n",
       "      <td>40.76380</td>\n",
       "      <td>-73.87238</td>\n",
       "      <td>Private room</td>\n",
       "      <td>48</td>\n",
       "      <td>145</td>\n",
       "      <td>1</td>\n",
       "      <td>496</td>\n",
       "      <td>15.40</td>\n",
       "      <td>349</td>\n",
       "      <td>Low price</td>\n",
       "    </tr>\n",
       "    <tr>\n",
       "      <th>11179</th>\n",
       "      <td>16814205</td>\n",
       "      <td>Jamaica</td>\n",
       "      <td>40.67949</td>\n",
       "      <td>-73.79841</td>\n",
       "      <td>Private room</td>\n",
       "      <td>53</td>\n",
       "      <td>293</td>\n",
       "      <td>1</td>\n",
       "      <td>464</td>\n",
       "      <td>13.33</td>\n",
       "      <td>78</td>\n",
       "      <td>Low price</td>\n",
       "    </tr>\n",
       "    <tr>\n",
       "      <th>11183</th>\n",
       "      <td>22176831</td>\n",
       "      <td>Jamaica</td>\n",
       "      <td>40.66158</td>\n",
       "      <td>-73.77050</td>\n",
       "      <td>Private room</td>\n",
       "      <td>50</td>\n",
       "      <td>305</td>\n",
       "      <td>1</td>\n",
       "      <td>421</td>\n",
       "      <td>17.44</td>\n",
       "      <td>50</td>\n",
       "      <td>Low price</td>\n",
       "    </tr>\n",
       "    <tr>\n",
       "      <th>11186</th>\n",
       "      <td>21550302</td>\n",
       "      <td>Jamaica</td>\n",
       "      <td>40.66110</td>\n",
       "      <td>-73.76830</td>\n",
       "      <td>Private room</td>\n",
       "      <td>80</td>\n",
       "      <td>317</td>\n",
       "      <td>1</td>\n",
       "      <td>489</td>\n",
       "      <td>19.25</td>\n",
       "      <td>54</td>\n",
       "      <td>Low price</td>\n",
       "    </tr>\n",
       "    <tr>\n",
       "      <th>11187</th>\n",
       "      <td>9145202</td>\n",
       "      <td>Jamaica</td>\n",
       "      <td>40.66730</td>\n",
       "      <td>-73.76831</td>\n",
       "      <td>Private room</td>\n",
       "      <td>47</td>\n",
       "      <td>339</td>\n",
       "      <td>1</td>\n",
       "      <td>675</td>\n",
       "      <td>14.02</td>\n",
       "      <td>0</td>\n",
       "      <td>Low price</td>\n",
       "    </tr>\n",
       "    <tr>\n",
       "      <th>11753</th>\n",
       "      <td>21593310</td>\n",
       "      <td>Queens</td>\n",
       "      <td>40.77046</td>\n",
       "      <td>-73.87336</td>\n",
       "      <td>Private room</td>\n",
       "      <td>60</td>\n",
       "      <td>29</td>\n",
       "      <td>1</td>\n",
       "      <td>323</td>\n",
       "      <td>12.67</td>\n",
       "      <td>0</td>\n",
       "      <td>Low price</td>\n",
       "    </tr>\n",
       "    <tr>\n",
       "      <th>11777</th>\n",
       "      <td>5115372</td>\n",
       "      <td>Queens</td>\n",
       "      <td>40.76374</td>\n",
       "      <td>-73.87103</td>\n",
       "      <td>Private room</td>\n",
       "      <td>54</td>\n",
       "      <td>80</td>\n",
       "      <td>1</td>\n",
       "      <td>493</td>\n",
       "      <td>13.34</td>\n",
       "      <td>0</td>\n",
       "      <td>Low price</td>\n",
       "    </tr>\n",
       "    <tr>\n",
       "      <th>11779</th>\n",
       "      <td>16276632</td>\n",
       "      <td>Queens</td>\n",
       "      <td>40.76335</td>\n",
       "      <td>-73.87007</td>\n",
       "      <td>Private room</td>\n",
       "      <td>48</td>\n",
       "      <td>83</td>\n",
       "      <td>1</td>\n",
       "      <td>577</td>\n",
       "      <td>15.84</td>\n",
       "      <td>358</td>\n",
       "      <td>Low price</td>\n",
       "    </tr>\n",
       "    <tr>\n",
       "      <th>11784</th>\n",
       "      <td>17222454</td>\n",
       "      <td>Queens</td>\n",
       "      <td>40.76367</td>\n",
       "      <td>-73.87088</td>\n",
       "      <td>Private room</td>\n",
       "      <td>48</td>\n",
       "      <td>93</td>\n",
       "      <td>1</td>\n",
       "      <td>470</td>\n",
       "      <td>13.81</td>\n",
       "      <td>354</td>\n",
       "      <td>Low price</td>\n",
       "    </tr>\n",
       "    <tr>\n",
       "      <th>11821</th>\n",
       "      <td>17587000</td>\n",
       "      <td>Queens</td>\n",
       "      <td>40.68638</td>\n",
       "      <td>-73.79007</td>\n",
       "      <td>Private room</td>\n",
       "      <td>65</td>\n",
       "      <td>202</td>\n",
       "      <td>1</td>\n",
       "      <td>385</td>\n",
       "      <td>12.53</td>\n",
       "      <td>171</td>\n",
       "      <td>Low price</td>\n",
       "    </tr>\n",
       "    <tr>\n",
       "      <th>11921</th>\n",
       "      <td>22750161</td>\n",
       "      <td>Queens</td>\n",
       "      <td>40.66298</td>\n",
       "      <td>-73.77000</td>\n",
       "      <td>Private room</td>\n",
       "      <td>50</td>\n",
       "      <td>302</td>\n",
       "      <td>1</td>\n",
       "      <td>388</td>\n",
       "      <td>16.89</td>\n",
       "      <td>58</td>\n",
       "      <td>Low price</td>\n",
       "    </tr>\n",
       "    <tr>\n",
       "      <th>11934</th>\n",
       "      <td>10101135</td>\n",
       "      <td>Queens</td>\n",
       "      <td>40.66939</td>\n",
       "      <td>-73.76975</td>\n",
       "      <td>Private room</td>\n",
       "      <td>47</td>\n",
       "      <td>327</td>\n",
       "      <td>1</td>\n",
       "      <td>630</td>\n",
       "      <td>13.13</td>\n",
       "      <td>65</td>\n",
       "      <td>Low price</td>\n",
       "    </tr>\n",
       "  </tbody>\n",
       "</table>\n",
       "</div>"
      ],
      "text/plain": [
       "             id   neighborhood  latitude  longitude        room_type  price  \\\n",
       "1542   30348624        Jamaica  40.66272  -73.76849  Entire home/apt     89   \n",
       "1545   21366188        Jamaica  40.66875  -73.78506  Entire home/apt     96   \n",
       "1559   29489893        Jamaica  40.68547  -73.79063  Entire home/apt     20   \n",
       "1889   20196339         Queens  40.66941  -73.79148  Entire home/apt     54   \n",
       "1921   15262831         Queens  40.66735  -73.76647  Entire home/apt     49   \n",
       "1941   28826608         Queens  40.66457  -73.76918  Entire home/apt     75   \n",
       "10737  18173787  East Elmhurst  40.76380  -73.87238     Private room     48   \n",
       "11179  16814205        Jamaica  40.67949  -73.79841     Private room     53   \n",
       "11183  22176831        Jamaica  40.66158  -73.77050     Private room     50   \n",
       "11186  21550302        Jamaica  40.66110  -73.76830     Private room     80   \n",
       "11187   9145202        Jamaica  40.66730  -73.76831     Private room     47   \n",
       "11753  21593310         Queens  40.77046  -73.87336     Private room     60   \n",
       "11777   5115372         Queens  40.76374  -73.87103     Private room     54   \n",
       "11779  16276632         Queens  40.76335  -73.87007     Private room     48   \n",
       "11784  17222454         Queens  40.76367  -73.87088     Private room     48   \n",
       "11821  17587000         Queens  40.68638  -73.79007     Private room     65   \n",
       "11921  22750161         Queens  40.66298  -73.77000     Private room     50   \n",
       "11934  10101135         Queens  40.66939  -73.76975     Private room     47   \n",
       "\n",
       "       days_occupied_in_2019  minimum_nights  number_of_reviews  \\\n",
       "1542                      21               1                149   \n",
       "1545                      23               1                324   \n",
       "1559                     290               1                175   \n",
       "1889                      51               1                377   \n",
       "1921                     220               1                494   \n",
       "1941                     329               1                204   \n",
       "10737                    145               1                496   \n",
       "11179                    293               1                464   \n",
       "11183                    305               1                421   \n",
       "11186                    317               1                489   \n",
       "11187                    339               1                675   \n",
       "11753                     29               1                323   \n",
       "11777                     80               1                493   \n",
       "11779                     83               1                577   \n",
       "11784                     93               1                470   \n",
       "11821                    202               1                385   \n",
       "11921                    302               1                388   \n",
       "11934                    327               1                630   \n",
       "\n",
       "       reviews_per_month  availability_2020 Price category  \n",
       "1542               12.11                  1      Low price  \n",
       "1545               12.99                  0      Low price  \n",
       "1559               13.03                 41      Low price  \n",
       "1889               13.29                  0      Low price  \n",
       "1921               12.73                119      Low price  \n",
       "1941               15.30                166      Low price  \n",
       "10737              15.40                349      Low price  \n",
       "11179              13.33                 78      Low price  \n",
       "11183              17.44                 50      Low price  \n",
       "11186              19.25                 54      Low price  \n",
       "11187              14.02                  0      Low price  \n",
       "11753              12.67                  0      Low price  \n",
       "11777              13.34                  0      Low price  \n",
       "11779              15.84                358      Low price  \n",
       "11784              13.81                354      Low price  \n",
       "11821              12.53                171      Low price  \n",
       "11921              16.89                 58      Low price  \n",
       "11934              13.13                 65      Low price  "
      ]
     },
     "execution_count": 46,
     "metadata": {},
     "output_type": "execute_result"
    }
   ],
   "source": [
    "# Check how many extreme values\n",
    "\n",
    "df_rentals[df_rentals['reviews_per_month'] >12]"
   ]
  },
  {
   "cell_type": "code",
   "execution_count": 47,
   "id": "7cbc6f5f",
   "metadata": {},
   "outputs": [],
   "source": [
    "# Clean the extreme values from the \"Price per Unit\" variable observed during the consistency checks.\n",
    "\n",
    "df_test = df_rentals[df_rentals['reviews_per_month'] <=12] "
   ]
  },
  {
   "cell_type": "code",
   "execution_count": 48,
   "id": "4b98b485",
   "metadata": {},
   "outputs": [
    {
     "data": {
      "text/plain": [
       "(17596, 12)"
      ]
     },
     "execution_count": 48,
     "metadata": {},
     "output_type": "execute_result"
    }
   ],
   "source": [
    "df_test.shape"
   ]
  },
  {
   "cell_type": "code",
   "execution_count": 51,
   "id": "f3e30677",
   "metadata": {},
   "outputs": [
    {
     "data": {
      "image/png": "[encoded data removed]",
      "text/plain": [
       "<Figure size 640x480 with 1 Axes>"
      ]
     },
     "metadata": {},
     "output_type": "display_data"
    }
   ],
   "source": [
    "# See how the scatterplot looks without outliers.\n",
    "\n",
    "df_test.plot(x = 'number_of_reviews', y='reviews_per_month', style='o')  \n",
    "plt.title('Number of reviews vs reviews per month')  \n",
    "plt.xlabel('number of reviews')  \n",
    "plt.ylabel('reviews per month')  \n",
    "plt.show()"
   ]
  },
  {
   "cell_type": "code",
   "execution_count": 53,
   "id": "2357d04f",
   "metadata": {},
   "outputs": [],
   "source": [
    "# Reshape again.\n",
    "\n",
    "X_2 = df_test['number_of_reviews'].values.reshape(-1,1)\n",
    "y_2 = df_test['reviews_per_month'].values.reshape(-1,1)"
   ]
  },
  {
   "cell_type": "code",
   "execution_count": 54,
   "id": "298d09c6",
   "metadata": {},
   "outputs": [],
   "source": [
    "X_train_2, X_test_2, y_train_2, y_test_2 = train_test_split(X_2, y_2, test_size=0.3, random_state=0)"
   ]
  },
  {
   "cell_type": "code",
   "execution_count": 55,
   "id": "97730759",
   "metadata": {},
   "outputs": [
    {
     "data": {
      "text/html": [
       "<style>#sk-container-id-2 {color: black;}#sk-container-id-2 pre{padding: 0;}#sk-container-id-2 div.sk-toggleable {background-color: white;}#sk-container-id-2 label.sk-toggleable__label {cursor: pointer;display: block;width: 100%;margin-bottom: 0;padding: 0.3em;box-sizing: border-box;text-align: center;}#sk-container-id-2 label.sk-toggleable__label-arrow:before {content: \"▸\";float: left;margin-right: 0.25em;color: #696969;}#sk-container-id-2 label.sk-toggleable__label-arrow:hover:before {color: black;}#sk-container-id-2 div.sk-estimator:hover label.sk-toggleable__label-arrow:before {color: black;}#sk-container-id-2 div.sk-toggleable__content {max-height: 0;max-width: 0;overflow: hidden;text-align: left;background-color: #f0f8ff;}#sk-container-id-2 div.sk-toggleable__content pre {margin: 0.2em;color: black;border-radius: 0.25em;background-color: #f0f8ff;}#sk-container-id-2 input.sk-toggleable__control:checked~div.sk-toggleable__content {max-height: 200px;max-width: 100%;overflow: auto;}#sk-container-id-2 input.sk-toggleable__control:checked~label.sk-toggleable__label-arrow:before {content: \"▾\";}#sk-container-id-2 div.sk-estimator input.sk-toggleable__control:checked~label.sk-toggleable__label {background-color: #d4ebff;}#sk-container-id-2 div.sk-label input.sk-toggleable__control:checked~label.sk-toggleable__label {background-color: #d4ebff;}#sk-container-id-2 input.sk-hidden--visually {border: 0;clip: rect(1px 1px 1px 1px);clip: rect(1px, 1px, 1px, 1px);height: 1px;margin: -1px;overflow: hidden;padding: 0;position: absolute;width: 1px;}#sk-container-id-2 div.sk-estimator {font-family: monospace;background-color: #f0f8ff;border: 1px dotted black;border-radius: 0.25em;box-sizing: border-box;margin-bottom: 0.5em;}#sk-container-id-2 div.sk-estimator:hover {background-color: #d4ebff;}#sk-container-id-2 div.sk-parallel-item::after {content: \"\";width: 100%;border-bottom: 1px solid gray;flex-grow: 1;}#sk-container-id-2 div.sk-label:hover label.sk-toggleable__label {background-color: #d4ebff;}#sk-container-id-2 div.sk-serial::before {content: \"\";position: absolute;border-left: 1px solid gray;box-sizing: border-box;top: 0;bottom: 0;left: 50%;z-index: 0;}#sk-container-id-2 div.sk-serial {display: flex;flex-direction: column;align-items: center;background-color: white;padding-right: 0.2em;padding-left: 0.2em;position: relative;}#sk-container-id-2 div.sk-item {position: relative;z-index: 1;}#sk-container-id-2 div.sk-parallel {display: flex;align-items: stretch;justify-content: center;background-color: white;position: relative;}#sk-container-id-2 div.sk-item::before, #sk-container-id-2 div.sk-parallel-item::before {content: \"\";position: absolute;border-left: 1px solid gray;box-sizing: border-box;top: 0;bottom: 0;left: 50%;z-index: -1;}#sk-container-id-2 div.sk-parallel-item {display: flex;flex-direction: column;z-index: 1;position: relative;background-color: white;}#sk-container-id-2 div.sk-parallel-item:first-child::after {align-self: flex-end;width: 50%;}#sk-container-id-2 div.sk-parallel-item:last-child::after {align-self: flex-start;width: 50%;}#sk-container-id-2 div.sk-parallel-item:only-child::after {width: 0;}#sk-container-id-2 div.sk-dashed-wrapped {border: 1px dashed gray;margin: 0 0.4em 0.5em 0.4em;box-sizing: border-box;padding-bottom: 0.4em;background-color: white;}#sk-container-id-2 div.sk-label label {font-family: monospace;font-weight: bold;display: inline-block;line-height: 1.2em;}#sk-container-id-2 div.sk-label-container {text-align: center;}#sk-container-id-2 div.sk-container {/* jupyter's `normalize.less` sets `[hidden] { display: none; }` but bootstrap.min.css set `[hidden] { display: none !important; }` so we also need the `!important` here to be able to override the default hidden behavior on the sphinx rendered scikit-learn.org. See: https://github.com/scikit-learn/scikit-learn/issues/21755 */display: inline-block !important;position: relative;}#sk-container-id-2 div.sk-text-repr-fallback {display: none;}</style><div id=\"sk-container-id-2\" class=\"sk-top-container\"><div class=\"sk-text-repr-fallback\"><pre>LinearRegression()</pre><b>In a Jupyter environment, please rerun this cell to show the HTML representation or trust the notebook. <br />On GitHub, the HTML representation is unable to render, please try loading this page with nbviewer.org.</b></div><div class=\"sk-container\" hidden><div class=\"sk-item\"><div class=\"sk-estimator sk-toggleable\"><input class=\"sk-toggleable__control sk-hidden--visually\" id=\"sk-estimator-id-2\" type=\"checkbox\" checked><label for=\"sk-estimator-id-2\" class=\"sk-toggleable__label sk-toggleable__label-arrow\">LinearRegression</label><div class=\"sk-toggleable__content\"><pre>LinearRegression()</pre></div></div></div></div></div>"
      ],
      "text/plain": [
       "LinearRegression()"
      ]
     },
     "execution_count": 55,
     "metadata": {},
     "output_type": "execute_result"
    }
   ],
   "source": [
    "# Run and fit the regression.\n",
    "\n",
    "regression = LinearRegression()  \n",
    "regression.fit(X_train_2, y_train_2)"
   ]
  },
  {
   "cell_type": "code",
   "execution_count": 56,
   "id": "b58baae5",
   "metadata": {},
   "outputs": [],
   "source": [
    "# Predict.\n",
    "\n",
    "y_predicted_2 = regression.predict(X_test_2)"
   ]
  },
  {
   "cell_type": "code",
   "execution_count": 57,
   "id": "6b291119",
   "metadata": {},
   "outputs": [],
   "source": [
    "rmse = mean_squared_error(y_test_2, y_predicted_2)\n",
    "r2 = r2_score(y_test_2, y_predicted_2)"
   ]
  },
  {
   "cell_type": "code",
   "execution_count": 58,
   "id": "a0faf37f",
   "metadata": {},
   "outputs": [
    {
     "name": "stdout",
     "output_type": "stream",
     "text": [
      "Slope: [[0.01834168]]\n",
      "Mean squared error:  1.1587406215699252\n",
      "R2 score:  0.5437226140838591\n"
     ]
    }
   ],
   "source": [
    "print('Slope:' ,regression.coef_)\n",
    "print('Mean squared error: ', rmse)\n",
    "print('R2 score: ', r2)"
   ]
  },
  {
   "cell_type": "code",
   "execution_count": 59,
   "id": "706ec456",
   "metadata": {
    "scrolled": false
   },
   "outputs": [
    {
     "data": {
      "image/png": "[encoded data removed]",
      "text/plain": [
       "<Figure size 640x480 with 1 Axes>"
      ]
     },
     "metadata": {},
     "output_type": "display_data"
    }
   ],
   "source": [
    "# Visualizing the test set results.\n",
    "plot_test = plt\n",
    "plot_test.scatter(X_test_2, y_test_2, color='gray', s = 15)\n",
    "plot_test.plot(X_test_2, y_predicted_2, color='red', linewidth =3)\n",
    "plot_test.title('Number of reviews vs reviews per month (Test set)')\n",
    "plot_test.xlabel('number of reviews')\n",
    "plot_test.ylabel('reviews per month')\n",
    "plot_test.show()"
   ]
  },
  {
   "cell_type": "markdown",
   "id": "54d1f9c3",
   "metadata": {},
   "source": [
    "The best-fit line shows a positive trend, which means that as the number of reviews increases, the reviews per month tend to increase as well. The density of the data points is concentrated towards the lower end of the number of reviews, indicating that most rental units have a fewer number of total reviews and reviews per month. As we move towards the higher end of the number of reviews, the data points spread out more, suggesting more variability in the reviews per month for units with a high number of reviews. While the line appears to capture the general upward trend, there is noticeable scatter around the line, especially as the number of reviews increases. This shows that there are other factors influencing the reviews per month that are not being captured by this simple linear model."
   ]
  },
  {
   "cell_type": "code",
   "execution_count": 60,
   "id": "2211c4fc",
   "metadata": {},
   "outputs": [
    {
     "data": {
      "text/html": [
       "<div>\n",
       "<style scoped>\n",
       "    .dataframe tbody tr th:only-of-type {\n",
       "        vertical-align: middle;\n",
       "    }\n",
       "\n",
       "    .dataframe tbody tr th {\n",
       "        vertical-align: top;\n",
       "    }\n",
       "\n",
       "    .dataframe thead th {\n",
       "        text-align: right;\n",
       "    }\n",
       "</style>\n",
       "<table border=\"1\" class=\"dataframe\">\n",
       "  <thead>\n",
       "    <tr style=\"text-align: right;\">\n",
       "      <th></th>\n",
       "      <th>Actual</th>\n",
       "      <th>Predicted</th>\n",
       "    </tr>\n",
       "  </thead>\n",
       "  <tbody>\n",
       "    <tr>\n",
       "      <th>0</th>\n",
       "      <td>0.45</td>\n",
       "      <td>1.003873</td>\n",
       "    </tr>\n",
       "    <tr>\n",
       "      <th>1</th>\n",
       "      <td>2.91</td>\n",
       "      <td>1.407390</td>\n",
       "    </tr>\n",
       "    <tr>\n",
       "      <th>2</th>\n",
       "      <td>1.38</td>\n",
       "      <td>0.930506</td>\n",
       "    </tr>\n",
       "    <tr>\n",
       "      <th>3</th>\n",
       "      <td>0.21</td>\n",
       "      <td>0.783772</td>\n",
       "    </tr>\n",
       "    <tr>\n",
       "      <th>4</th>\n",
       "      <td>0.81</td>\n",
       "      <td>1.389048</td>\n",
       "    </tr>\n",
       "    <tr>\n",
       "      <th>5</th>\n",
       "      <td>3.15</td>\n",
       "      <td>2.672966</td>\n",
       "    </tr>\n",
       "    <tr>\n",
       "      <th>6</th>\n",
       "      <td>1.14</td>\n",
       "      <td>1.609148</td>\n",
       "    </tr>\n",
       "    <tr>\n",
       "      <th>7</th>\n",
       "      <td>1.69</td>\n",
       "      <td>2.507890</td>\n",
       "    </tr>\n",
       "    <tr>\n",
       "      <th>8</th>\n",
       "      <td>2.91</td>\n",
       "      <td>2.141057</td>\n",
       "    </tr>\n",
       "    <tr>\n",
       "      <th>9</th>\n",
       "      <td>0.50</td>\n",
       "      <td>0.985531</td>\n",
       "    </tr>\n",
       "    <tr>\n",
       "      <th>10</th>\n",
       "      <td>0.05</td>\n",
       "      <td>0.600356</td>\n",
       "    </tr>\n",
       "    <tr>\n",
       "      <th>11</th>\n",
       "      <td>1.70</td>\n",
       "      <td>1.719198</td>\n",
       "    </tr>\n",
       "    <tr>\n",
       "      <th>12</th>\n",
       "      <td>1.37</td>\n",
       "      <td>1.242314</td>\n",
       "    </tr>\n",
       "    <tr>\n",
       "      <th>13</th>\n",
       "      <td>2.50</td>\n",
       "      <td>2.086032</td>\n",
       "    </tr>\n",
       "    <tr>\n",
       "      <th>14</th>\n",
       "      <td>0.28</td>\n",
       "      <td>0.655381</td>\n",
       "    </tr>\n",
       "    <tr>\n",
       "      <th>15</th>\n",
       "      <td>0.10</td>\n",
       "      <td>0.618697</td>\n",
       "    </tr>\n",
       "    <tr>\n",
       "      <th>16</th>\n",
       "      <td>2.28</td>\n",
       "      <td>1.334023</td>\n",
       "    </tr>\n",
       "    <tr>\n",
       "      <th>17</th>\n",
       "      <td>0.78</td>\n",
       "      <td>0.728747</td>\n",
       "    </tr>\n",
       "    <tr>\n",
       "      <th>18</th>\n",
       "      <td>0.36</td>\n",
       "      <td>0.673722</td>\n",
       "    </tr>\n",
       "    <tr>\n",
       "      <th>19</th>\n",
       "      <td>0.07</td>\n",
       "      <td>0.582014</td>\n",
       "    </tr>\n",
       "    <tr>\n",
       "      <th>20</th>\n",
       "      <td>0.19</td>\n",
       "      <td>0.875481</td>\n",
       "    </tr>\n",
       "    <tr>\n",
       "      <th>21</th>\n",
       "      <td>2.20</td>\n",
       "      <td>1.755882</td>\n",
       "    </tr>\n",
       "    <tr>\n",
       "      <th>22</th>\n",
       "      <td>0.10</td>\n",
       "      <td>0.600356</td>\n",
       "    </tr>\n",
       "    <tr>\n",
       "      <th>23</th>\n",
       "      <td>0.28</td>\n",
       "      <td>0.893823</td>\n",
       "    </tr>\n",
       "    <tr>\n",
       "      <th>24</th>\n",
       "      <td>0.22</td>\n",
       "      <td>0.747089</td>\n",
       "    </tr>\n",
       "    <tr>\n",
       "      <th>25</th>\n",
       "      <td>2.74</td>\n",
       "      <td>1.902615</td>\n",
       "    </tr>\n",
       "    <tr>\n",
       "      <th>26</th>\n",
       "      <td>2.62</td>\n",
       "      <td>3.498341</td>\n",
       "    </tr>\n",
       "    <tr>\n",
       "      <th>27</th>\n",
       "      <td>1.63</td>\n",
       "      <td>1.058898</td>\n",
       "    </tr>\n",
       "    <tr>\n",
       "      <th>28</th>\n",
       "      <td>0.21</td>\n",
       "      <td>0.820456</td>\n",
       "    </tr>\n",
       "    <tr>\n",
       "      <th>29</th>\n",
       "      <td>2.08</td>\n",
       "      <td>3.314924</td>\n",
       "    </tr>\n",
       "  </tbody>\n",
       "</table>\n",
       "</div>"
      ],
      "text/plain": [
       "    Actual  Predicted\n",
       "0     0.45   1.003873\n",
       "1     2.91   1.407390\n",
       "2     1.38   0.930506\n",
       "3     0.21   0.783772\n",
       "4     0.81   1.389048\n",
       "5     3.15   2.672966\n",
       "6     1.14   1.609148\n",
       "7     1.69   2.507890\n",
       "8     2.91   2.141057\n",
       "9     0.50   0.985531\n",
       "10    0.05   0.600356\n",
       "11    1.70   1.719198\n",
       "12    1.37   1.242314\n",
       "13    2.50   2.086032\n",
       "14    0.28   0.655381\n",
       "15    0.10   0.618697\n",
       "16    2.28   1.334023\n",
       "17    0.78   0.728747\n",
       "18    0.36   0.673722\n",
       "19    0.07   0.582014\n",
       "20    0.19   0.875481\n",
       "21    2.20   1.755882\n",
       "22    0.10   0.600356\n",
       "23    0.28   0.893823\n",
       "24    0.22   0.747089\n",
       "25    2.74   1.902615\n",
       "26    2.62   3.498341\n",
       "27    1.63   1.058898\n",
       "28    0.21   0.820456\n",
       "29    2.08   3.314924"
      ]
     },
     "execution_count": 60,
     "metadata": {},
     "output_type": "execute_result"
    }
   ],
   "source": [
    "data = pd.DataFrame({'Actual': y_test_2.flatten(), 'Predicted': y_predicted_2.flatten()})\n",
    "data.head(30)"
   ]
  },
  {
   "cell_type": "markdown",
   "id": "bbca49d5",
   "metadata": {},
   "source": [
    "the model has a decent level of predictive power, but there are certainly individual predictions where the model is not as accurate. "
   ]
  },
  {
   "cell_type": "markdown",
   "id": "656745e2",
   "metadata": {},
   "source": [
    "linear model's performance on the test set is moderate, as indicated by the R-squared score of 0.5437226140838591. This score reflects that approximately 57% of the variability in the reviews per month can be explained by the number of reviews.One thing we know is that while the number of reviews is an important factor in reviews per month, its not the only one. This just confirms a single regression line as not being the most accurate prediction model. "
   ]
  },
  {
   "cell_type": "markdown",
   "id": "e436fbab",
   "metadata": {},
   "source": [
    "The potential data bias could stem from the fact that new listings or those less frequently rented may have fewer reviews due to less exposure, while popular listings could accumulate reviews more quickly over time, which could skew the relationship between total reviews and reviews per month"
   ]
  },
  {
   "cell_type": "markdown",
   "id": "b310115e",
   "metadata": {},
   "source": [
    "# 5. Export data"
   ]
  },
  {
   "cell_type": "code",
   "execution_count": 61,
   "id": "72b26127",
   "metadata": {},
   "outputs": [],
   "source": [
    "df_rentals.to_csv(os.path.join(path, 'Data', 'Prepared Data', 'rental_merged_new.csv'))"
   ]
  }
 ],
 "metadata": {
  "kernelspec": {
   "display_name": "Python 3 (ipykernel)",
   "language": "python",
   "name": "python3"
  },
  "language_info": {
   "codemirror_mode": {
    "name": "ipython",
    "version": 3
   },
   "file_extension": ".py",
   "mimetype": "text/x-python",
   "name": "python",
   "nbconvert_exporter": "python",
   "pygments_lexer": "ipython3",
   "version": "3.11.5"
  }
 },
 "nbformat": 4,
 "nbformat_minor": 5
}
