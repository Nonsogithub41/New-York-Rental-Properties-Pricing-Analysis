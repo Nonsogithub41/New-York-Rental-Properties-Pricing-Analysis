{
 "cells": [
  {
   "cell_type": "markdown",
   "id": "87d1def9",
   "metadata": {},
   "source": [
    "# Table of Contents\n",
    "\n",
    "1. Importing Libraries\n",
    "2. Import Dataframe\n",
    "3. Data wrangling (Cleaning)\n",
    "4. Export Data\n"
   ]
  },
  {
   "cell_type": "markdown",
   "id": "d12935bc",
   "metadata": {},
   "source": [
    "# 1. Import Data"
   ]
  },
  {
   "cell_type": "code",
   "execution_count": 1,
   "id": "607c19a8",
   "metadata": {},
   "outputs": [],
   "source": [
    "#Import libraries\n",
    "import pandas as pd\n",
    "import numpy as np\n",
    "import os"
   ]
  },
  {
   "cell_type": "code",
   "execution_count": 2,
   "id": "f58235b9",
   "metadata": {},
   "outputs": [],
   "source": [
    "path = r'C:\\Users\\admin\\Desktop\\New York rentals Dataset'"
   ]
  },
  {
   "cell_type": "code",
   "execution_count": 3,
   "id": "58bb6082",
   "metadata": {},
   "outputs": [
    {
     "data": {
      "text/plain": [
       "'C:\\\\Users\\\\admin\\\\Desktop\\\\New York rentals Dataset'"
      ]
     },
     "execution_count": 3,
     "metadata": {},
     "output_type": "execute_result"
    }
   ],
   "source": [
    "path"
   ]
  },
  {
   "cell_type": "markdown",
   "id": "66233130",
   "metadata": {},
   "source": [
    "# 2. Import Path & Data Set"
   ]
  },
  {
   "cell_type": "code",
   "execution_count": 5,
   "id": "0ef2f768",
   "metadata": {},
   "outputs": [],
   "source": [
    "#Read the CSV file from the specified path\n",
    "\n",
    "df_rentals =pd.read_csv(os.path.join(path, 'Data', 'Original Data', 'new_york_rentals.csv'), index_col = False)"
   ]
  },
  {
   "cell_type": "code",
   "execution_count": 6,
   "id": "099c39d4",
   "metadata": {},
   "outputs": [
    {
     "data": {
      "text/html": [
       "<div>\n",
       "<style scoped>\n",
       "    .dataframe tbody tr th:only-of-type {\n",
       "        vertical-align: middle;\n",
       "    }\n",
       "\n",
       "    .dataframe tbody tr th {\n",
       "        vertical-align: top;\n",
       "    }\n",
       "\n",
       "    .dataframe thead th {\n",
       "        text-align: right;\n",
       "    }\n",
       "</style>\n",
       "<table border=\"1\" class=\"dataframe\">\n",
       "  <thead>\n",
       "    <tr style=\"text-align: right;\">\n",
       "      <th></th>\n",
       "      <th>F1</th>\n",
       "      <th>id</th>\n",
       "      <th>neighbourhood</th>\n",
       "      <th>latitude</th>\n",
       "      <th>longitude</th>\n",
       "      <th>room_type</th>\n",
       "      <th>price</th>\n",
       "      <th>days_occupied_in_2019</th>\n",
       "      <th>minimum_nights</th>\n",
       "      <th>number_of_reviews</th>\n",
       "      <th>reviews_per_month</th>\n",
       "      <th>availability_2020</th>\n",
       "    </tr>\n",
       "  </thead>\n",
       "  <tbody>\n",
       "    <tr>\n",
       "      <th>0</th>\n",
       "      <td>0</td>\n",
       "      <td>2595</td>\n",
       "      <td>Midtown</td>\n",
       "      <td>40.75362</td>\n",
       "      <td>-73.98377</td>\n",
       "      <td>Entire home/apt</td>\n",
       "      <td>225</td>\n",
       "      <td>15</td>\n",
       "      <td>10</td>\n",
       "      <td>48</td>\n",
       "      <td>0.39</td>\n",
       "      <td>1</td>\n",
       "    </tr>\n",
       "    <tr>\n",
       "      <th>1</th>\n",
       "      <td>1</td>\n",
       "      <td>3831</td>\n",
       "      <td>Brooklyn</td>\n",
       "      <td>40.68514</td>\n",
       "      <td>-73.95976</td>\n",
       "      <td>Entire home/apt</td>\n",
       "      <td>89</td>\n",
       "      <td>188</td>\n",
       "      <td>1</td>\n",
       "      <td>295</td>\n",
       "      <td>4.67</td>\n",
       "      <td>1</td>\n",
       "    </tr>\n",
       "    <tr>\n",
       "      <th>2</th>\n",
       "      <td>2</td>\n",
       "      <td>5099</td>\n",
       "      <td>Manhattan</td>\n",
       "      <td>40.74767</td>\n",
       "      <td>-73.97500</td>\n",
       "      <td>Entire home/apt</td>\n",
       "      <td>200</td>\n",
       "      <td>362</td>\n",
       "      <td>3</td>\n",
       "      <td>78</td>\n",
       "      <td>0.60</td>\n",
       "      <td>19</td>\n",
       "    </tr>\n",
       "    <tr>\n",
       "      <th>3</th>\n",
       "      <td>3</td>\n",
       "      <td>5121</td>\n",
       "      <td>Bedford-Stuyvesant</td>\n",
       "      <td>40.68688</td>\n",
       "      <td>-73.95596</td>\n",
       "      <td>Private room</td>\n",
       "      <td>60</td>\n",
       "      <td>0</td>\n",
       "      <td>29</td>\n",
       "      <td>49</td>\n",
       "      <td>0.38</td>\n",
       "      <td>365</td>\n",
       "    </tr>\n",
       "    <tr>\n",
       "      <th>4</th>\n",
       "      <td>4</td>\n",
       "      <td>5178</td>\n",
       "      <td>Manhattan</td>\n",
       "      <td>40.76489</td>\n",
       "      <td>-73.98493</td>\n",
       "      <td>Private room</td>\n",
       "      <td>79</td>\n",
       "      <td>141</td>\n",
       "      <td>2</td>\n",
       "      <td>454</td>\n",
       "      <td>3.52</td>\n",
       "      <td>242</td>\n",
       "    </tr>\n",
       "  </tbody>\n",
       "</table>\n",
       "</div>"
      ],
      "text/plain": [
       "   F1    id       neighbourhood  latitude  longitude        room_type  price  \\\n",
       "0   0  2595             Midtown  40.75362  -73.98377  Entire home/apt    225   \n",
       "1   1  3831            Brooklyn  40.68514  -73.95976  Entire home/apt     89   \n",
       "2   2  5099           Manhattan  40.74767  -73.97500  Entire home/apt    200   \n",
       "3   3  5121  Bedford-Stuyvesant  40.68688  -73.95596     Private room     60   \n",
       "4   4  5178           Manhattan  40.76489  -73.98493     Private room     79   \n",
       "\n",
       "   days_occupied_in_2019  minimum_nights  number_of_reviews  \\\n",
       "0                     15              10                 48   \n",
       "1                    188               1                295   \n",
       "2                    362               3                 78   \n",
       "3                      0              29                 49   \n",
       "4                    141               2                454   \n",
       "\n",
       "   reviews_per_month  availability_2020  \n",
       "0               0.39                  1  \n",
       "1               4.67                  1  \n",
       "2               0.60                 19  \n",
       "3               0.38                365  \n",
       "4               3.52                242  "
      ]
     },
     "execution_count": 6,
     "metadata": {},
     "output_type": "execute_result"
    }
   ],
   "source": [
    "df_rentals.head()"
   ]
  },
  {
   "cell_type": "markdown",
   "id": "00b38b33",
   "metadata": {},
   "source": [
    "# 3. Data wrangling (Cleaning)"
   ]
  },
  {
   "cell_type": "code",
   "execution_count": 7,
   "id": "e2fc6faa",
   "metadata": {},
   "outputs": [],
   "source": [
    "# dropping F1 column from new_york_rentals.csv (because it is not relevant for our analysis)\n",
    "df_rentals = df_rentals.drop(columns = ['F1'])"
   ]
  },
  {
   "cell_type": "code",
   "execution_count": 8,
   "id": "4315c506",
   "metadata": {},
   "outputs": [
    {
     "data": {
      "text/html": [
       "<div>\n",
       "<style scoped>\n",
       "    .dataframe tbody tr th:only-of-type {\n",
       "        vertical-align: middle;\n",
       "    }\n",
       "\n",
       "    .dataframe tbody tr th {\n",
       "        vertical-align: top;\n",
       "    }\n",
       "\n",
       "    .dataframe thead th {\n",
       "        text-align: right;\n",
       "    }\n",
       "</style>\n",
       "<table border=\"1\" class=\"dataframe\">\n",
       "  <thead>\n",
       "    <tr style=\"text-align: right;\">\n",
       "      <th></th>\n",
       "      <th>id</th>\n",
       "      <th>neighbourhood</th>\n",
       "      <th>latitude</th>\n",
       "      <th>longitude</th>\n",
       "      <th>room_type</th>\n",
       "      <th>price</th>\n",
       "      <th>days_occupied_in_2019</th>\n",
       "      <th>minimum_nights</th>\n",
       "      <th>number_of_reviews</th>\n",
       "      <th>reviews_per_month</th>\n",
       "      <th>availability_2020</th>\n",
       "    </tr>\n",
       "  </thead>\n",
       "  <tbody>\n",
       "    <tr>\n",
       "      <th>0</th>\n",
       "      <td>2595</td>\n",
       "      <td>Midtown</td>\n",
       "      <td>40.75362</td>\n",
       "      <td>-73.98377</td>\n",
       "      <td>Entire home/apt</td>\n",
       "      <td>225</td>\n",
       "      <td>15</td>\n",
       "      <td>10</td>\n",
       "      <td>48</td>\n",
       "      <td>0.39</td>\n",
       "      <td>1</td>\n",
       "    </tr>\n",
       "    <tr>\n",
       "      <th>1</th>\n",
       "      <td>3831</td>\n",
       "      <td>Brooklyn</td>\n",
       "      <td>40.68514</td>\n",
       "      <td>-73.95976</td>\n",
       "      <td>Entire home/apt</td>\n",
       "      <td>89</td>\n",
       "      <td>188</td>\n",
       "      <td>1</td>\n",
       "      <td>295</td>\n",
       "      <td>4.67</td>\n",
       "      <td>1</td>\n",
       "    </tr>\n",
       "    <tr>\n",
       "      <th>2</th>\n",
       "      <td>5099</td>\n",
       "      <td>Manhattan</td>\n",
       "      <td>40.74767</td>\n",
       "      <td>-73.97500</td>\n",
       "      <td>Entire home/apt</td>\n",
       "      <td>200</td>\n",
       "      <td>362</td>\n",
       "      <td>3</td>\n",
       "      <td>78</td>\n",
       "      <td>0.60</td>\n",
       "      <td>19</td>\n",
       "    </tr>\n",
       "    <tr>\n",
       "      <th>3</th>\n",
       "      <td>5121</td>\n",
       "      <td>Bedford-Stuyvesant</td>\n",
       "      <td>40.68688</td>\n",
       "      <td>-73.95596</td>\n",
       "      <td>Private room</td>\n",
       "      <td>60</td>\n",
       "      <td>0</td>\n",
       "      <td>29</td>\n",
       "      <td>49</td>\n",
       "      <td>0.38</td>\n",
       "      <td>365</td>\n",
       "    </tr>\n",
       "    <tr>\n",
       "      <th>4</th>\n",
       "      <td>5178</td>\n",
       "      <td>Manhattan</td>\n",
       "      <td>40.76489</td>\n",
       "      <td>-73.98493</td>\n",
       "      <td>Private room</td>\n",
       "      <td>79</td>\n",
       "      <td>141</td>\n",
       "      <td>2</td>\n",
       "      <td>454</td>\n",
       "      <td>3.52</td>\n",
       "      <td>242</td>\n",
       "    </tr>\n",
       "  </tbody>\n",
       "</table>\n",
       "</div>"
      ],
      "text/plain": [
       "     id       neighbourhood  latitude  longitude        room_type  price  \\\n",
       "0  2595             Midtown  40.75362  -73.98377  Entire home/apt    225   \n",
       "1  3831            Brooklyn  40.68514  -73.95976  Entire home/apt     89   \n",
       "2  5099           Manhattan  40.74767  -73.97500  Entire home/apt    200   \n",
       "3  5121  Bedford-Stuyvesant  40.68688  -73.95596     Private room     60   \n",
       "4  5178           Manhattan  40.76489  -73.98493     Private room     79   \n",
       "\n",
       "   days_occupied_in_2019  minimum_nights  number_of_reviews  \\\n",
       "0                     15              10                 48   \n",
       "1                    188               1                295   \n",
       "2                    362               3                 78   \n",
       "3                      0              29                 49   \n",
       "4                    141               2                454   \n",
       "\n",
       "   reviews_per_month  availability_2020  \n",
       "0               0.39                  1  \n",
       "1               4.67                  1  \n",
       "2               0.60                 19  \n",
       "3               0.38                365  \n",
       "4               3.52                242  "
      ]
     },
     "execution_count": 8,
     "metadata": {},
     "output_type": "execute_result"
    }
   ],
   "source": [
    "# check output \n",
    "df_rentals.head()"
   ]
  },
  {
   "cell_type": "code",
   "execution_count": 9,
   "id": "989e4b16",
   "metadata": {},
   "outputs": [
    {
     "data": {
      "text/plain": [
       "(17614, 11)"
      ]
     },
     "execution_count": 9,
     "metadata": {},
     "output_type": "execute_result"
    }
   ],
   "source": [
    "# check the total amount of rows and column\n",
    "\n",
    "df_rentals.shape"
   ]
  },
  {
   "cell_type": "code",
   "execution_count": 14,
   "id": "430bbb83",
   "metadata": {},
   "outputs": [],
   "source": [
    "# check for mix data types\n",
    "\n",
    "for col in df_rentals.columns.tolist():\n",
    "  weird = (df_rentals[[col]].applymap(type) !=df_rentals[[col]].iloc[0].apply(type)).any(axis = 1)\n",
    "  if len (df_rentals[weird]) > 0:\n",
    "    print (col)"
   ]
  },
  {
   "cell_type": "markdown",
   "id": "0983a8d2",
   "metadata": {},
   "source": [
    "There are no mixed data types in the data set. "
   ]
  },
  {
   "cell_type": "code",
   "execution_count": 15,
   "id": "e524aca7",
   "metadata": {},
   "outputs": [
    {
     "name": "stdout",
     "output_type": "stream",
     "text": [
      "<class 'pandas.core.frame.DataFrame'>\n",
      "RangeIndex: 17614 entries, 0 to 17613\n",
      "Data columns (total 11 columns):\n",
      " #   Column                 Non-Null Count  Dtype  \n",
      "---  ------                 --------------  -----  \n",
      " 0   id                     17614 non-null  int64  \n",
      " 1   neighbourhood          17614 non-null  object \n",
      " 2   latitude               17614 non-null  float64\n",
      " 3   longitude              17614 non-null  float64\n",
      " 4   room_type              17614 non-null  object \n",
      " 5   price                  17614 non-null  int64  \n",
      " 6   days_occupied_in_2019  17614 non-null  int64  \n",
      " 7   minimum_nights         17614 non-null  int64  \n",
      " 8   number_of_reviews      17614 non-null  int64  \n",
      " 9   reviews_per_month      17614 non-null  float64\n",
      " 10  availability_2020      17614 non-null  int64  \n",
      "dtypes: float64(3), int64(6), object(2)\n",
      "memory usage: 1.5+ MB\n"
     ]
    }
   ],
   "source": [
    "# check data info and data types\n",
    "\n",
    "df_rentals.info()"
   ]
  },
  {
   "cell_type": "code",
   "execution_count": 16,
   "id": "fbd59994",
   "metadata": {},
   "outputs": [
    {
     "data": {
      "text/plain": [
       "id                       0\n",
       "neighbourhood            0\n",
       "latitude                 0\n",
       "longitude                0\n",
       "room_type                0\n",
       "price                    0\n",
       "days_occupied_in_2019    0\n",
       "minimum_nights           0\n",
       "number_of_reviews        0\n",
       "reviews_per_month        0\n",
       "availability_2020        0\n",
       "dtype: int64"
      ]
     },
     "execution_count": 16,
     "metadata": {},
     "output_type": "execute_result"
    }
   ],
   "source": [
    "# code to check for missing value in the df_rentals\n",
    "df_rentals.isnull().sum()"
   ]
  },
  {
   "cell_type": "markdown",
   "id": "efe558cf",
   "metadata": {},
   "source": [
    "There are no missing values found in the new york rental properties pricing dataset"
   ]
  },
  {
   "cell_type": "code",
   "execution_count": 17,
   "id": "dd497e28",
   "metadata": {},
   "outputs": [
    {
     "data": {
      "text/html": [
       "<div>\n",
       "<style scoped>\n",
       "    .dataframe tbody tr th:only-of-type {\n",
       "        vertical-align: middle;\n",
       "    }\n",
       "\n",
       "    .dataframe tbody tr th {\n",
       "        vertical-align: top;\n",
       "    }\n",
       "\n",
       "    .dataframe thead th {\n",
       "        text-align: right;\n",
       "    }\n",
       "</style>\n",
       "<table border=\"1\" class=\"dataframe\">\n",
       "  <thead>\n",
       "    <tr style=\"text-align: right;\">\n",
       "      <th></th>\n",
       "      <th>id</th>\n",
       "      <th>latitude</th>\n",
       "      <th>longitude</th>\n",
       "      <th>price</th>\n",
       "      <th>days_occupied_in_2019</th>\n",
       "      <th>minimum_nights</th>\n",
       "      <th>number_of_reviews</th>\n",
       "      <th>reviews_per_month</th>\n",
       "      <th>availability_2020</th>\n",
       "    </tr>\n",
       "  </thead>\n",
       "  <tbody>\n",
       "    <tr>\n",
       "      <th>count</th>\n",
       "      <td>1.761400e+04</td>\n",
       "      <td>17614.000000</td>\n",
       "      <td>17614.000000</td>\n",
       "      <td>17614.000000</td>\n",
       "      <td>17614.000000</td>\n",
       "      <td>17614.000000</td>\n",
       "      <td>17614.000000</td>\n",
       "      <td>17614.000000</td>\n",
       "      <td>17614.000000</td>\n",
       "    </tr>\n",
       "    <tr>\n",
       "      <th>mean</th>\n",
       "      <td>1.572032e+07</td>\n",
       "      <td>40.726755</td>\n",
       "      <td>-73.947732</td>\n",
       "      <td>145.455490</td>\n",
       "      <td>179.517656</td>\n",
       "      <td>7.392926</td>\n",
       "      <td>56.128988</td>\n",
       "      <td>1.607060</td>\n",
       "      <td>154.154763</td>\n",
       "    </tr>\n",
       "    <tr>\n",
       "      <th>std</th>\n",
       "      <td>9.644155e+06</td>\n",
       "      <td>0.056981</td>\n",
       "      <td>0.050213</td>\n",
       "      <td>194.990677</td>\n",
       "      <td>130.202015</td>\n",
       "      <td>19.233869</td>\n",
       "      <td>65.972370</td>\n",
       "      <td>1.635528</td>\n",
       "      <td>138.079651</td>\n",
       "    </tr>\n",
       "    <tr>\n",
       "      <th>min</th>\n",
       "      <td>2.595000e+03</td>\n",
       "      <td>40.508680</td>\n",
       "      <td>-74.239860</td>\n",
       "      <td>0.000000</td>\n",
       "      <td>0.000000</td>\n",
       "      <td>1.000000</td>\n",
       "      <td>1.000000</td>\n",
       "      <td>0.010000</td>\n",
       "      <td>0.000000</td>\n",
       "    </tr>\n",
       "    <tr>\n",
       "      <th>25%</th>\n",
       "      <td>6.718288e+06</td>\n",
       "      <td>40.686042</td>\n",
       "      <td>-73.980938</td>\n",
       "      <td>70.000000</td>\n",
       "      <td>35.000000</td>\n",
       "      <td>2.000000</td>\n",
       "      <td>9.000000</td>\n",
       "      <td>0.340000</td>\n",
       "      <td>8.000000</td>\n",
       "    </tr>\n",
       "    <tr>\n",
       "      <th>50%</th>\n",
       "      <td>1.654699e+07</td>\n",
       "      <td>40.720540</td>\n",
       "      <td>-73.953050</td>\n",
       "      <td>109.000000</td>\n",
       "      <td>198.000000</td>\n",
       "      <td>3.000000</td>\n",
       "      <td>33.000000</td>\n",
       "      <td>1.060000</td>\n",
       "      <td>125.000000</td>\n",
       "    </tr>\n",
       "    <tr>\n",
       "      <th>75%</th>\n",
       "      <td>2.407707e+07</td>\n",
       "      <td>40.763127</td>\n",
       "      <td>-73.930682</td>\n",
       "      <td>170.000000</td>\n",
       "      <td>301.000000</td>\n",
       "      <td>5.000000</td>\n",
       "      <td>79.000000</td>\n",
       "      <td>2.460000</td>\n",
       "      <td>309.000000</td>\n",
       "    </tr>\n",
       "    <tr>\n",
       "      <th>max</th>\n",
       "      <td>3.056528e+07</td>\n",
       "      <td>40.908040</td>\n",
       "      <td>-73.721790</td>\n",
       "      <td>9999.000000</td>\n",
       "      <td>364.000000</td>\n",
       "      <td>1125.000000</td>\n",
       "      <td>675.000000</td>\n",
       "      <td>19.250000</td>\n",
       "      <td>365.000000</td>\n",
       "    </tr>\n",
       "  </tbody>\n",
       "</table>\n",
       "</div>"
      ],
      "text/plain": [
       "                 id      latitude     longitude         price  \\\n",
       "count  1.761400e+04  17614.000000  17614.000000  17614.000000   \n",
       "mean   1.572032e+07     40.726755    -73.947732    145.455490   \n",
       "std    9.644155e+06      0.056981      0.050213    194.990677   \n",
       "min    2.595000e+03     40.508680    -74.239860      0.000000   \n",
       "25%    6.718288e+06     40.686042    -73.980938     70.000000   \n",
       "50%    1.654699e+07     40.720540    -73.953050    109.000000   \n",
       "75%    2.407707e+07     40.763127    -73.930682    170.000000   \n",
       "max    3.056528e+07     40.908040    -73.721790   9999.000000   \n",
       "\n",
       "       days_occupied_in_2019  minimum_nights  number_of_reviews  \\\n",
       "count           17614.000000    17614.000000       17614.000000   \n",
       "mean              179.517656        7.392926          56.128988   \n",
       "std               130.202015       19.233869          65.972370   \n",
       "min                 0.000000        1.000000           1.000000   \n",
       "25%                35.000000        2.000000           9.000000   \n",
       "50%               198.000000        3.000000          33.000000   \n",
       "75%               301.000000        5.000000          79.000000   \n",
       "max               364.000000     1125.000000         675.000000   \n",
       "\n",
       "       reviews_per_month  availability_2020  \n",
       "count       17614.000000       17614.000000  \n",
       "mean            1.607060         154.154763  \n",
       "std             1.635528         138.079651  \n",
       "min             0.010000           0.000000  \n",
       "25%             0.340000           8.000000  \n",
       "50%             1.060000         125.000000  \n",
       "75%             2.460000         309.000000  \n",
       "max            19.250000         365.000000  "
      ]
     },
     "execution_count": 17,
     "metadata": {},
     "output_type": "execute_result"
    }
   ],
   "source": [
    "# Conduct basic descriptive statistics for the dataset\n",
    "df_rentals.describe()"
   ]
  },
  {
   "cell_type": "code",
   "execution_count": 27,
   "id": "d22548ed",
   "metadata": {},
   "outputs": [],
   "source": [
    "# following command will search for full duplicate rows within dataframe\n",
    "\n",
    "df_dups = df_rentals[df_rentals.duplicated()]"
   ]
  },
  {
   "cell_type": "code",
   "execution_count": 28,
   "id": "b3a82b9a",
   "metadata": {},
   "outputs": [
    {
     "data": {
      "text/html": [
       "<div>\n",
       "<style scoped>\n",
       "    .dataframe tbody tr th:only-of-type {\n",
       "        vertical-align: middle;\n",
       "    }\n",
       "\n",
       "    .dataframe tbody tr th {\n",
       "        vertical-align: top;\n",
       "    }\n",
       "\n",
       "    .dataframe thead th {\n",
       "        text-align: right;\n",
       "    }\n",
       "</style>\n",
       "<table border=\"1\" class=\"dataframe\">\n",
       "  <thead>\n",
       "    <tr style=\"text-align: right;\">\n",
       "      <th></th>\n",
       "      <th>id</th>\n",
       "      <th>neighbourhood</th>\n",
       "      <th>latitude</th>\n",
       "      <th>longitude</th>\n",
       "      <th>room_type</th>\n",
       "      <th>price</th>\n",
       "      <th>days_occupied_in_2019</th>\n",
       "      <th>minimum_nights</th>\n",
       "      <th>number_of_reviews</th>\n",
       "      <th>reviews_per_month</th>\n",
       "      <th>availability_2020</th>\n",
       "    </tr>\n",
       "  </thead>\n",
       "  <tbody>\n",
       "  </tbody>\n",
       "</table>\n",
       "</div>"
      ],
      "text/plain": [
       "Empty DataFrame\n",
       "Columns: [id, neighbourhood, latitude, longitude, room_type, price, days_occupied_in_2019, minimum_nights, number_of_reviews, reviews_per_month, availability_2020]\n",
       "Index: []"
      ]
     },
     "execution_count": 28,
     "metadata": {},
     "output_type": "execute_result"
    }
   ],
   "source": [
    "df_dups"
   ]
  },
  {
   "cell_type": "markdown",
   "id": "38b51e71",
   "metadata": {},
   "source": [
    "There are no duplicates found"
   ]
  },
  {
   "cell_type": "code",
   "execution_count": 29,
   "id": "8dda0011",
   "metadata": {},
   "outputs": [
    {
     "data": {
      "text/plain": [
       "(17614, 11)"
      ]
     },
     "execution_count": 29,
     "metadata": {},
     "output_type": "execute_result"
    }
   ],
   "source": [
    "# Check shape of the dataset before exporting \n",
    "df_rentals.shape"
   ]
  },
  {
   "cell_type": "markdown",
   "id": "a50523c9",
   "metadata": {},
   "source": [
    "# 4. Export data"
   ]
  },
  {
   "cell_type": "code",
   "execution_count": 30,
   "id": "ac9ba488",
   "metadata": {},
   "outputs": [],
   "source": [
    "df_rentals.to_csv(os.path.join(path, 'Data', 'Prepared Data', 'df_rental_cleaned.csv'))\n"
   ]
  },
  {
   "cell_type": "code",
   "execution_count": 31,
   "id": "0f4ffb76",
   "metadata": {},
   "outputs": [
    {
     "data": {
      "text/html": [
       "<div>\n",
       "<style scoped>\n",
       "    .dataframe tbody tr th:only-of-type {\n",
       "        vertical-align: middle;\n",
       "    }\n",
       "\n",
       "    .dataframe tbody tr th {\n",
       "        vertical-align: top;\n",
       "    }\n",
       "\n",
       "    .dataframe thead th {\n",
       "        text-align: right;\n",
       "    }\n",
       "</style>\n",
       "<table border=\"1\" class=\"dataframe\">\n",
       "  <thead>\n",
       "    <tr style=\"text-align: right;\">\n",
       "      <th></th>\n",
       "      <th>id</th>\n",
       "      <th>neighbourhood</th>\n",
       "      <th>latitude</th>\n",
       "      <th>longitude</th>\n",
       "      <th>room_type</th>\n",
       "      <th>price</th>\n",
       "      <th>days_occupied_in_2019</th>\n",
       "      <th>minimum_nights</th>\n",
       "      <th>number_of_reviews</th>\n",
       "      <th>reviews_per_month</th>\n",
       "      <th>availability_2020</th>\n",
       "    </tr>\n",
       "  </thead>\n",
       "  <tbody>\n",
       "    <tr>\n",
       "      <th>0</th>\n",
       "      <td>2595</td>\n",
       "      <td>Midtown</td>\n",
       "      <td>40.75362</td>\n",
       "      <td>-73.98377</td>\n",
       "      <td>Entire home/apt</td>\n",
       "      <td>225</td>\n",
       "      <td>15</td>\n",
       "      <td>10</td>\n",
       "      <td>48</td>\n",
       "      <td>0.39</td>\n",
       "      <td>1</td>\n",
       "    </tr>\n",
       "    <tr>\n",
       "      <th>1</th>\n",
       "      <td>3831</td>\n",
       "      <td>Brooklyn</td>\n",
       "      <td>40.68514</td>\n",
       "      <td>-73.95976</td>\n",
       "      <td>Entire home/apt</td>\n",
       "      <td>89</td>\n",
       "      <td>188</td>\n",
       "      <td>1</td>\n",
       "      <td>295</td>\n",
       "      <td>4.67</td>\n",
       "      <td>1</td>\n",
       "    </tr>\n",
       "    <tr>\n",
       "      <th>2</th>\n",
       "      <td>5099</td>\n",
       "      <td>Manhattan</td>\n",
       "      <td>40.74767</td>\n",
       "      <td>-73.97500</td>\n",
       "      <td>Entire home/apt</td>\n",
       "      <td>200</td>\n",
       "      <td>362</td>\n",
       "      <td>3</td>\n",
       "      <td>78</td>\n",
       "      <td>0.60</td>\n",
       "      <td>19</td>\n",
       "    </tr>\n",
       "    <tr>\n",
       "      <th>3</th>\n",
       "      <td>5121</td>\n",
       "      <td>Bedford-Stuyvesant</td>\n",
       "      <td>40.68688</td>\n",
       "      <td>-73.95596</td>\n",
       "      <td>Private room</td>\n",
       "      <td>60</td>\n",
       "      <td>0</td>\n",
       "      <td>29</td>\n",
       "      <td>49</td>\n",
       "      <td>0.38</td>\n",
       "      <td>365</td>\n",
       "    </tr>\n",
       "    <tr>\n",
       "      <th>4</th>\n",
       "      <td>5178</td>\n",
       "      <td>Manhattan</td>\n",
       "      <td>40.76489</td>\n",
       "      <td>-73.98493</td>\n",
       "      <td>Private room</td>\n",
       "      <td>79</td>\n",
       "      <td>141</td>\n",
       "      <td>2</td>\n",
       "      <td>454</td>\n",
       "      <td>3.52</td>\n",
       "      <td>242</td>\n",
       "    </tr>\n",
       "  </tbody>\n",
       "</table>\n",
       "</div>"
      ],
      "text/plain": [
       "     id       neighbourhood  latitude  longitude        room_type  price  \\\n",
       "0  2595             Midtown  40.75362  -73.98377  Entire home/apt    225   \n",
       "1  3831            Brooklyn  40.68514  -73.95976  Entire home/apt     89   \n",
       "2  5099           Manhattan  40.74767  -73.97500  Entire home/apt    200   \n",
       "3  5121  Bedford-Stuyvesant  40.68688  -73.95596     Private room     60   \n",
       "4  5178           Manhattan  40.76489  -73.98493     Private room     79   \n",
       "\n",
       "   days_occupied_in_2019  minimum_nights  number_of_reviews  \\\n",
       "0                     15              10                 48   \n",
       "1                    188               1                295   \n",
       "2                    362               3                 78   \n",
       "3                      0              29                 49   \n",
       "4                    141               2                454   \n",
       "\n",
       "   reviews_per_month  availability_2020  \n",
       "0               0.39                  1  \n",
       "1               4.67                  1  \n",
       "2               0.60                 19  \n",
       "3               0.38                365  \n",
       "4               3.52                242  "
      ]
     },
     "execution_count": 31,
     "metadata": {},
     "output_type": "execute_result"
    }
   ],
   "source": [
    "df_rentals.head()"
   ]
  }
 ],
 "metadata": {
  "kernelspec": {
   "display_name": "Python 3 (ipykernel)",
   "language": "python",
   "name": "python3"
  },
  "language_info": {
   "codemirror_mode": {
    "name": "ipython",
    "version": 3
   },
   "file_extension": ".py",
   "mimetype": "text/x-python",
   "name": "python",
   "nbconvert_exporter": "python",
   "pygments_lexer": "ipython3",
   "version": "3.11.5"
  }
 },
 "nbformat": 4,
 "nbformat_minor": 5
}
